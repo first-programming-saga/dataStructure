{
  "cells": [
    {
      "metadata": {},
      "cell_type": "markdown",
      "source": "# リストを作る"
    },
    {
      "metadata": {
        "trusted": true
      },
      "cell_type": "code",
      "source": "リストは、要素を並べて保持するデータ構造である。要素の列挙などで生成することができる。",
      "execution_count": 48,
      "outputs": [
        {
          "output_type": "error",
          "ename": "SyntaxError",
          "evalue": "invalid character in identifier (<ipython-input-48-1b2c9ecd2d3f>, line 1)",
          "traceback": [
            "\u001b[0;36m  File \u001b[0;32m\"<ipython-input-48-1b2c9ecd2d3f>\"\u001b[0;36m, line \u001b[0;32m1\u001b[0m\n\u001b[0;31m    リストは、要素を並べて保持するデータ構造である。要素の列挙などで生成することができる。\u001b[0m\n\u001b[0m                                              ^\u001b[0m\n\u001b[0;31mSyntaxError\u001b[0m\u001b[0;31m:\u001b[0m invalid character in identifier\n"
          ]
        }
      ]
    },
    {
      "metadata": {
        "trusted": true
      },
      "cell_type": "code",
      "source": "numbers = [10,20,0,10,5,7,-7]",
      "execution_count": null,
      "outputs": []
    },
    {
      "metadata": {
        "trusted": true
      },
      "cell_type": "code",
      "source": "numbers",
      "execution_count": null,
      "outputs": []
    },
    {
      "metadata": {
        "trusted": true
      },
      "cell_type": "code",
      "source": "colors = ['red','blue','green']",
      "execution_count": null,
      "outputs": []
    },
    {
      "metadata": {
        "trusted": true
      },
      "cell_type": "code",
      "source": "colors",
      "execution_count": null,
      "outputs": []
    },
    {
      "metadata": {},
      "cell_type": "markdown",
      "source": "リストの初期値として、同じ値が入ったものが必要となることがある。次の例では、ゼロが5個入ったリストを生成する。"
    },
    {
      "metadata": {
        "trusted": true
      },
      "cell_type": "code",
      "source": "zeros = [0]*5",
      "execution_count": null,
      "outputs": []
    },
    {
      "metadata": {
        "trusted": true,
        "scrolled": true
      },
      "cell_type": "code",
      "source": "zeros",
      "execution_count": null,
      "outputs": []
    },
    {
      "metadata": {},
      "cell_type": "markdown",
      "source": "リストの初期値として、ある並びを繰り返したものを生成することもできる。"
    },
    {
      "metadata": {
        "trusted": true
      },
      "cell_type": "code",
      "source": "xyz = ['x','y','z']*3",
      "execution_count": null,
      "outputs": []
    },
    {
      "metadata": {
        "trusted": true
      },
      "cell_type": "code",
      "source": "xyz",
      "execution_count": null,
      "outputs": []
    },
    {
      "metadata": {
        "trusted": true
      },
      "cell_type": "code",
      "source": "evens = list(range(0,10,2))",
      "execution_count": null,
      "outputs": []
    },
    {
      "metadata": {
        "trusted": true
      },
      "cell_type": "code",
      "source": "evens",
      "execution_count": null,
      "outputs": []
    },
    {
      "metadata": {
        "trusted": true
      },
      "cell_type": "code",
      "source": "chars = list('saga')",
      "execution_count": null,
      "outputs": []
    },
    {
      "metadata": {
        "trusted": true
      },
      "cell_type": "code",
      "source": "chars",
      "execution_count": null,
      "outputs": []
    },
    {
      "metadata": {
        "trusted": true
      },
      "cell_type": "code",
      "source": "nulllist = list()",
      "execution_count": null,
      "outputs": []
    },
    {
      "metadata": {
        "trusted": true,
        "scrolled": false
      },
      "cell_type": "code",
      "source": "nulllist2 = list[]",
      "execution_count": null,
      "outputs": []
    },
    {
      "metadata": {},
      "cell_type": "markdown",
      "source": "# リストの要素を参照"
    },
    {
      "metadata": {},
      "cell_type": "markdown",
      "source": "リストの要素は、インデックス(先頭を0とした番号)を用いて参照することができる。\nまた、最後尾を-1として、前に向かって参照することもできる。"
    },
    {
      "metadata": {
        "trusted": true
      },
      "cell_type": "code",
      "source": "chars[0]",
      "execution_count": null,
      "outputs": []
    },
    {
      "metadata": {
        "trusted": true
      },
      "cell_type": "code",
      "source": "chars[-1]",
      "execution_count": null,
      "outputs": []
    },
    {
      "metadata": {
        "trusted": true
      },
      "cell_type": "code",
      "source": "numbers[0]=20",
      "execution_count": 49,
      "outputs": []
    },
    {
      "metadata": {
        "trusted": true
      },
      "cell_type": "code",
      "source": "print(numbers)",
      "execution_count": 50,
      "outputs": [
        {
          "output_type": "stream",
          "text": "[20, 20, 0, 10, 5, 7, -7]\n",
          "name": "stdout"
        }
      ]
    },
    {
      "metadata": {},
      "cell_type": "markdown",
      "source": "リストのように、要素を順に辿ることができるデータ構造を、iterableという。\n\niterableなデータ構造は、forを使って、辿ることができる。\n要素を直接取り出すことも、インデクスを用いて取り出すこともできる。"
    },
    {
      "metadata": {
        "trusted": true
      },
      "cell_type": "code",
      "source": "s = 0\nfor x in numbers:\n    print(f'sに{x}を加算')\n    s += x\nprint(s)",
      "execution_count": 56,
      "outputs": [
        {
          "output_type": "stream",
          "text": "sに20を加算\nsに20を加算\nsに0を加算\nsに10を加算\nsに5を加算\nsに7を加算\nsに-7を加算\n55\n",
          "name": "stdout"
        }
      ]
    },
    {
      "metadata": {
        "trusted": true
      },
      "cell_type": "code",
      "source": "s2 = 0\nn = len(numbers)\nfor i in range(n):\n    x = numbers[i]\n    s2 += x*x\nprint(s2)",
      "execution_count": 52,
      "outputs": [
        {
          "output_type": "stream",
          "text": "1023\n",
          "name": "stdout"
        }
      ]
    },
    {
      "metadata": {},
      "cell_type": "markdown",
      "source": "# 課題"
    },
    {
      "metadata": {},
      "cell_type": "markdown",
      "source": "リストに正と負の整数が保存されているとする。その絶対値の和を計算しなさい。\n絶対値は標準のモジュールにあるabs()を使う。"
    },
    {
      "metadata": {
        "trusted": true
      },
      "cell_type": "code",
      "source": "",
      "execution_count": null,
      "outputs": []
    }
  ],
  "metadata": {
    "kernelspec": {
      "name": "python36",
      "display_name": "Python 3.6",
      "language": "python"
    },
    "language_info": {
      "mimetype": "text/x-python",
      "nbconvert_exporter": "python",
      "name": "python",
      "pygments_lexer": "ipython3",
      "version": "3.6.6",
      "file_extension": ".py",
      "codemirror_mode": {
        "version": 3,
        "name": "ipython"
      }
    }
  },
  "nbformat": 4,
  "nbformat_minor": 2
}