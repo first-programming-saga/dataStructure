{
  "cells": [
    {
      "metadata": {
        "trusted": true
      },
      "cell_type": "markdown",
      "source": "# リストを作る\n\nリストは、要素を並べて保持するデータ構造である。要素の集まりに一つの名前を付けて管理することができるとともに、一つ一つを取り出すことができる。\n"
    },
    {
      "metadata": {},
      "cell_type": "markdown",
      "source": "## リストの生成\n\nリストの生成方法の一つが、要素の列挙による方法。"
    },
    {
      "metadata": {
        "trusted": true
      },
      "cell_type": "code",
      "source": "numbers = [10,20,0,-10,5,7,-7]\nnumbers",
      "execution_count": 1,
      "outputs": [
        {
          "output_type": "execute_result",
          "execution_count": 1,
          "data": {
            "text/plain": "[10, 20, 0, -10, 5, 7, -7]"
          },
          "metadata": {}
        }
      ]
    },
    {
      "metadata": {
        "trusted": true
      },
      "cell_type": "code",
      "source": "colors = ['red','blue','green']\ncolors",
      "execution_count": 2,
      "outputs": [
        {
          "output_type": "execute_result",
          "execution_count": 2,
          "data": {
            "text/plain": "['red', 'blue', 'green']"
          },
          "metadata": {}
        }
      ]
    },
    {
      "metadata": {},
      "cell_type": "markdown",
      "source": "リストの初期値として、同じ値が入ったものが必要となることがある。次の例では、ゼロが5個入ったリストを生成する。"
    },
    {
      "metadata": {
        "trusted": true
      },
      "cell_type": "code",
      "source": "zeros = [0]*5\nzeros",
      "execution_count": 3,
      "outputs": [
        {
          "output_type": "execute_result",
          "execution_count": 3,
          "data": {
            "text/plain": "[0, 0, 0, 0, 0]"
          },
          "metadata": {}
        }
      ]
    },
    {
      "metadata": {},
      "cell_type": "markdown",
      "source": "リストの初期値として、ある並びを繰り返したものを生成することもできる。"
    },
    {
      "metadata": {
        "trusted": true
      },
      "cell_type": "code",
      "source": "xyz = ['x','y','z']*3\nxyz",
      "execution_count": 4,
      "outputs": [
        {
          "output_type": "execute_result",
          "execution_count": 4,
          "data": {
            "text/plain": "['x', 'y', 'z', 'x', 'y', 'z', 'x', 'y', 'z']"
          },
          "metadata": {}
        }
      ]
    },
    {
      "metadata": {},
      "cell_type": "markdown",
      "source": "リストは、他の順序のあるもの(iterableと呼ぶ。後述)から生成することもできる。"
    },
    {
      "metadata": {
        "trusted": true
      },
      "cell_type": "code",
      "source": "evens = list(range(0,10,2))\nevens",
      "execution_count": 5,
      "outputs": [
        {
          "output_type": "execute_result",
          "execution_count": 5,
          "data": {
            "text/plain": "[0, 2, 4, 6, 8]"
          },
          "metadata": {}
        }
      ]
    },
    {
      "metadata": {
        "trusted": true
      },
      "cell_type": "code",
      "source": "chars = list('saga')\nchars",
      "execution_count": 6,
      "outputs": [
        {
          "output_type": "execute_result",
          "execution_count": 6,
          "data": {
            "text/plain": "['s', 'a', 'g', 'a']"
          },
          "metadata": {}
        }
      ]
    },
    {
      "metadata": {},
      "cell_type": "markdown",
      "source": "空のリストの生成"
    },
    {
      "metadata": {
        "trusted": true
      },
      "cell_type": "code",
      "source": "nulllist = list()",
      "execution_count": 7,
      "outputs": []
    },
    {
      "metadata": {},
      "cell_type": "markdown",
      "source": "条件付き文のリスト内容表記\n\nforループから条件を指定してリストを生成する"
    },
    {
      "metadata": {
        "trusted": true
      },
      "cell_type": "code",
      "source": "negatives = [x for x in numbers if x<0]\nnegatives",
      "execution_count": 8,
      "outputs": [
        {
          "output_type": "execute_result",
          "execution_count": 8,
          "data": {
            "text/plain": "[-10, -7]"
          },
          "metadata": {}
        }
      ]
    },
    {
      "metadata": {},
      "cell_type": "markdown",
      "source": "## リストの要素を参照"
    },
    {
      "metadata": {},
      "cell_type": "markdown",
      "source": "リストの要素は、インデックス(先頭を0とした番号)を用いて参照することができる。\nまた、最後尾を-1として、前に向かって参照することもできる。"
    },
    {
      "metadata": {
        "trusted": true
      },
      "cell_type": "code",
      "source": "chars[0]",
      "execution_count": 9,
      "outputs": [
        {
          "output_type": "execute_result",
          "execution_count": 9,
          "data": {
            "text/plain": "'s'"
          },
          "metadata": {}
        }
      ]
    },
    {
      "metadata": {
        "trusted": true
      },
      "cell_type": "code",
      "source": "chars[1]",
      "execution_count": 10,
      "outputs": [
        {
          "output_type": "execute_result",
          "execution_count": 10,
          "data": {
            "text/plain": "'a'"
          },
          "metadata": {}
        }
      ]
    },
    {
      "metadata": {
        "trusted": true,
        "scrolled": true
      },
      "cell_type": "code",
      "source": "chars[-1]",
      "execution_count": 11,
      "outputs": [
        {
          "output_type": "execute_result",
          "execution_count": 11,
          "data": {
            "text/plain": "'a'"
          },
          "metadata": {}
        }
      ]
    },
    {
      "metadata": {
        "trusted": true
      },
      "cell_type": "code",
      "source": "chars[-2]",
      "execution_count": 12,
      "outputs": [
        {
          "output_type": "execute_result",
          "execution_count": 12,
          "data": {
            "text/plain": "'g'"
          },
          "metadata": {}
        }
      ]
    },
    {
      "metadata": {},
      "cell_type": "markdown",
      "source": "リストの要素の値を変更する"
    },
    {
      "metadata": {
        "trusted": true
      },
      "cell_type": "code",
      "source": "numbers[0]=15\nnumbers",
      "execution_count": 13,
      "outputs": [
        {
          "output_type": "execute_result",
          "execution_count": 13,
          "data": {
            "text/plain": "[15, 20, 0, -10, 5, 7, -7]"
          },
          "metadata": {}
        }
      ]
    },
    {
      "metadata": {},
      "cell_type": "markdown",
      "source": "## リストを順に辿る\n\nリストのように、要素を順に辿ることができるデータ構造を、iterableという。\n\niterableなデータ構造は、forを使って、辿ることができる。\n要素を直接取り出すことも、インデクスを用いて取り出すこともできる。"
    },
    {
      "metadata": {
        "trusted": true
      },
      "cell_type": "code",
      "source": "print(numbers)\nfor x in numbers:#リスト中の値を順に参照\n    print(f'x={x}')",
      "execution_count": 14,
      "outputs": [
        {
          "output_type": "stream",
          "text": "[15, 20, 0, -10, 5, 7, -7]\nx=15\nx=20\nx=0\nx=-10\nx=5\nx=7\nx=-7\n",
          "name": "stdout"
        }
      ]
    },
    {
      "metadata": {
        "trusted": true
      },
      "cell_type": "code",
      "source": "s = 0\nfor x in numbers:\n    s += x\n    print(f'sに{x}を加算, s={s}')\nprint(s)",
      "execution_count": 15,
      "outputs": [
        {
          "output_type": "stream",
          "text": "sに15を加算, s=15\nsに20を加算, s=35\nsに0を加算, s=35\nsに-10を加算, s=25\nsに5を加算, s=30\nsに7を加算, s=37\nsに-7を加算, s=30\n30\n",
          "name": "stdout"
        }
      ]
    },
    {
      "metadata": {
        "trusted": true,
        "scrolled": true
      },
      "cell_type": "code",
      "source": "s2 = 0\nn = len(numbers)\nfor i in range(n):#リストのインデクスを用いて値を参照\n    x = numbers[i]\n    s2 += x*x\nprint(s2)",
      "execution_count": 16,
      "outputs": [
        {
          "output_type": "stream",
          "text": "848\n",
          "name": "stdout"
        }
      ]
    },
    {
      "metadata": {},
      "cell_type": "markdown",
      "source": "# 課題"
    },
    {
      "metadata": {},
      "cell_type": "markdown",
      "source": "リストに正と負の整数が保存されているとする。その絶対値の和を計算しなさい。\n絶対値は標準のモジュールにあるabs()を使う。"
    },
    {
      "metadata": {
        "trusted": true
      },
      "cell_type": "code",
      "source": "",
      "execution_count": null,
      "outputs": []
    }
  ],
  "metadata": {
    "kernelspec": {
      "name": "python36",
      "display_name": "Python 3.6",
      "language": "python"
    },
    "language_info": {
      "mimetype": "text/x-python",
      "nbconvert_exporter": "python",
      "name": "python",
      "pygments_lexer": "ipython3",
      "version": "3.6.6",
      "file_extension": ".py",
      "codemirror_mode": {
        "version": 3,
        "name": "ipython"
      }
    }
  },
  "nbformat": 4,
  "nbformat_minor": 2
}