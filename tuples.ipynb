{
  "cells": [
    {
      "attachments": {},
      "cell_type": "markdown",
      "metadata": {
        "collapsed": true
      },
      "source": [
        "# tuple\n",
        "- tuple(タプル)は、オブジェクトの組を保存するデータ構造\n",
        "- 要素を追加できる\n",
        "- 要素を変更できないことに注意\n",
        "- 関数への引数渡し、戻り値で重宝する"
      ]
    },
    {
      "cell_type": "code",
      "execution_count": null,
      "metadata": {
        "trusted": true
      },
      "outputs": [],
      "source": [
        "data0 = (1, 2)\n",
        "data0 += (3,) # 要素の追加 (3)では、intになってしまう。\n",
        "print(data0)\n",
        "print(data0[0]) #要素の参照"
      ]
    },
    {
      "cell_type": "markdown",
      "metadata": {},
      "source": [
        "括弧は省略できる"
      ]
    },
    {
      "cell_type": "code",
      "execution_count": null,
      "metadata": {
        "trusted": true
      },
      "outputs": [],
      "source": [
        "data = 1, 2, 3\n",
        "print(data)\n",
        "a, b, c = data\n",
        "print(a, b, c)"
      ]
    },
    {
      "attachments": {},
      "cell_type": "markdown",
      "metadata": {},
      "source": [
        "タプルは、iterableである。\n",
        "- 要素を順に辿ることができる。\n",
        "- インデクスを用いて辿ることもできる。"
      ]
    },
    {
      "cell_type": "code",
      "execution_count": null,
      "metadata": {
        "scrolled": false,
        "trusted": true
      },
      "outputs": [],
      "source": [
        "colors =('green', 'red', 'blue', 'yellow', 'orange')\n",
        "for c in colors:\n",
        "    print(c)"
      ]
    },
    {
      "cell_type": "code",
      "execution_count": null,
      "metadata": {
        "trusted": true
      },
      "outputs": [],
      "source": [
        "n = len(colors)\n",
        "for i in range(n):\n",
        "    print(f'{i} : {colors[i]}')"
      ]
    },
    {
      "attachments": {},
      "cell_type": "markdown",
      "metadata": {},
      "source": [
        "`enumerate()`も使える。`enumerate()`はタプルからなる _iterable_ を返すことに注意。"
      ]
    },
    {
      "cell_type": "code",
      "execution_count": null,
      "metadata": {},
      "outputs": [],
      "source": [
        "for i,c in enumerate(colors):\n",
        "    print(f'{i} : {c}')"
      ]
    },
    {
      "cell_type": "markdown",
      "metadata": {},
      "source": [
        "タプルをリストや他のデータ構造の要素とすることができる。\n",
        "\n",
        "リストの要素がタプルである例。"
      ]
    },
    {
      "cell_type": "code",
      "execution_count": null,
      "metadata": {
        "trusted": true
      },
      "outputs": [],
      "source": [
        "results = [\n",
        "    ('Bob', 80),\n",
        "    ('Sue', 90),\n",
        "    ('Tim', 70),\n",
        "    ('Beth', 90)\n",
        "]\n",
        "for name, record in results:\n",
        "    print(f'{name}の成績は{record}点')"
      ]
    },
    {
      "cell_type": "markdown",
      "metadata": {},
      "source": [
        "タプルの要素にリストを含む例。"
      ]
    },
    {
      "cell_type": "code",
      "execution_count": null,
      "metadata": {
        "trusted": true
      },
      "outputs": [],
      "source": [
        "colors2 = [\n",
        "    ('red', [255, 0, 0]),\n",
        "    ('green', [0, 255, 0]),\n",
        "    ('blue', [0, 0, 255]),\n",
        "    ('yellow', [255, 255, 0]),\n",
        "    ('orange', [255, 165, 0])\n",
        "]\n",
        "for c, rgb in colors2:\n",
        "    print(f'{c}={rgb}')"
      ]
    },
    {
      "cell_type": "markdown",
      "metadata": {},
      "source": [
        "タプルの要素を変更しようとすると、エラーとなる。\n",
        "\n",
        "例題では、エラーとなることが分かっているので、例外処理することで、プログラムが完全に停止してしまうのを防いでいる。"
      ]
    },
    {
      "cell_type": "code",
      "execution_count": null,
      "metadata": {
        "scrolled": true,
        "trusted": true
      },
      "outputs": [],
      "source": [
        "try:\n",
        "    data[0]=0\n",
        "except Exception as e:\n",
        "    print('エラーメッセージ：'+str(e))"
      ]
    }
  ],
  "metadata": {
    "kernelspec": {
      "display_name": "myenv",
      "language": "python",
      "name": "python3"
    },
    "language_info": {
      "codemirror_mode": {
        "name": "ipython",
        "version": 3
      },
      "file_extension": ".py",
      "mimetype": "text/x-python",
      "name": "python",
      "nbconvert_exporter": "python",
      "pygments_lexer": "ipython3",
      "version": "3.12.1"
    },
    "vscode": {
      "interpreter": {
        "hash": "b3b804b6b7a7d9b475cf928428dd1242016eacc24c47853aaf0f8d1d2228aa39"
      }
    }
  },
  "nbformat": 4,
  "nbformat_minor": 2
}
