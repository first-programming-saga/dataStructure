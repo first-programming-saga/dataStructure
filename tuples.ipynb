{
  "cells": [
    {
      "metadata": {
        "collapsed": true
      },
      "cell_type": "markdown",
      "source": "tuple(タプル)は、値の組を保存するデータ構造です。中を変更できないことに注意が必要です。"
    },
    {
      "metadata": {
        "trusted": true
      },
      "cell_type": "code",
      "source": "data=(1,2)\ndata +=(3,)\nprint(data)\nprint(data[0])",
      "execution_count": 2,
      "outputs": [
        {
          "output_type": "stream",
          "text": "(1, 2, 3)\n1\n",
          "name": "stdout"
        }
      ]
    },
    {
      "metadata": {},
      "cell_type": "markdown",
      "source": "括弧は省略できる"
    },
    {
      "metadata": {
        "trusted": true
      },
      "cell_type": "code",
      "source": "data=1,2,3\nprint(data)",
      "execution_count": 3,
      "outputs": [
        {
          "output_type": "stream",
          "text": "(1, 2, 3)\n",
          "name": "stdout"
        }
      ]
    },
    {
      "metadata": {},
      "cell_type": "markdown",
      "source": "タプルは、iterableである。要素を順に辿ることができる。インデクスを用いて辿ることもできる。"
    },
    {
      "metadata": {
        "trusted": true,
        "scrolled": false
      },
      "cell_type": "code",
      "source": "colors=('green','red','blue','yellow','orange')\nfor c in colors:\n    print(c)",
      "execution_count": 4,
      "outputs": [
        {
          "output_type": "stream",
          "text": "green\nred\nblue\nyellow\norange\n",
          "name": "stdout"
        }
      ]
    },
    {
      "metadata": {
        "trusted": true
      },
      "cell_type": "code",
      "source": "n = len(colors)\nfor i in range(n):\n    print(f'{i} : {colors[i]}')",
      "execution_count": 5,
      "outputs": [
        {
          "output_type": "stream",
          "text": "0 : green\n1 : red\n2 : blue\n3 : yellow\n4 : orange\n",
          "name": "stdout"
        }
      ]
    },
    {
      "metadata": {},
      "cell_type": "markdown",
      "source": "タプルをリストや他のデータ構造の要素とすることができる"
    },
    {
      "metadata": {
        "trusted": true
      },
      "cell_type": "code",
      "source": "results = [\n    ('Bob',80),\n    ('Sue',90),\n    ('Tim',70),\n    ('Beth',90)\n]\nfor (name,record) in results:\n    print(f'{name}の成績は{record}点')",
      "execution_count": 6,
      "outputs": [
        {
          "output_type": "stream",
          "text": "Bobの成績は80点\nSueの成績は90点\nTimの成績は70点\nBethの成績は90点\n",
          "name": "stdout"
        }
      ]
    },
    {
      "metadata": {
        "trusted": true
      },
      "cell_type": "code",
      "source": "colors2 = (\n    ('red',[255,0,0]),\n    ('green',[0,255,0]),\n    ('blue',[0,0,255]),\n    ('yellow',[255,255,0]),\n    ('orange',[255,165,0])\n)\nfor c in colors2:\n    print(f'{c[0]}={c[1]}')",
      "execution_count": 7,
      "outputs": [
        {
          "output_type": "stream",
          "text": "red=[255, 0, 0]\ngreen=[0, 255, 0]\nblue=[0, 0, 255]\nyellow=[255, 255, 0]\norange=[255, 165, 0]\n",
          "name": "stdout"
        }
      ]
    },
    {
      "metadata": {},
      "cell_type": "markdown",
      "source": "タプルの要素を変更しようとすると、エラーとなる"
    },
    {
      "metadata": {
        "trusted": true
      },
      "cell_type": "code",
      "source": "try:\n    data[0]=0\nexcept Exception as e:\n    print(e)",
      "execution_count": 8,
      "outputs": [
        {
          "output_type": "stream",
          "text": "'tuple' object does not support item assignment\n",
          "name": "stdout"
        }
      ]
    },
    {
      "metadata": {
        "trusted": true
      },
      "cell_type": "code",
      "source": "",
      "execution_count": null,
      "outputs": []
    }
  ],
  "metadata": {
    "kernelspec": {
      "name": "python36",
      "display_name": "Python 3.6",
      "language": "python"
    },
    "language_info": {
      "mimetype": "text/x-python",
      "nbconvert_exporter": "python",
      "name": "python",
      "pygments_lexer": "ipython3",
      "version": "3.6.6",
      "file_extension": ".py",
      "codemirror_mode": {
        "version": 3,
        "name": "ipython"
      }
    }
  },
  "nbformat": 4,
  "nbformat_minor": 2
}