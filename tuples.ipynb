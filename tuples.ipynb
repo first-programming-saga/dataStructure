{
  "cells": [
    {
      "attachments": {},
      "cell_type": "markdown",
      "metadata": {
        "collapsed": true
      },
      "source": [
        "# tuple\n",
        "- tuple(タプル)は、値の組を保存するデータ構造\n",
        "- 要素を変更できないことに注意"
      ]
    },
    {
      "cell_type": "code",
      "execution_count": null,
      "metadata": {
        "trusted": true
      },
      "outputs": [],
      "source": [
        "data0 = (1, 2)\n",
        "print(data0[0]) #要素の参照"
      ]
    },
    {
      "cell_type": "markdown",
      "metadata": {},
      "source": [
        "括弧は省略できる"
      ]
    },
    {
      "cell_type": "code",
      "execution_count": null,
      "metadata": {
        "trusted": true
      },
      "outputs": [],
      "source": [
        "data = 1, 2, 3\n",
        "print(data)\n",
        "a, b, c = data\n",
        "print(a, b, c)"
      ]
    },
    {
      "attachments": {},
      "cell_type": "markdown",
      "metadata": {},
      "source": [
        "タプルは、iterableである。\n",
        "- 要素を順に辿ることができる。\n",
        "- インデクスを用いて辿ることもできる。"
      ]
    },
    {
      "cell_type": "code",
      "execution_count": null,
      "metadata": {
        "scrolled": false,
        "trusted": true
      },
      "outputs": [],
      "source": [
        "colors =('green', 'red', 'blue', 'yellow', 'orange')\n",
        "for c in colors:\n",
        "    print(c)"
      ]
    },
    {
      "cell_type": "code",
      "execution_count": null,
      "metadata": {
        "trusted": true
      },
      "outputs": [],
      "source": [
        "n = len(colors)\n",
        "for i in range(n):\n",
        "    print(f'{i} : {colors[i]}')"
      ]
    },
    {
      "attachments": {},
      "cell_type": "markdown",
      "metadata": {},
      "source": [
        "enumerate()も使える。enumerate()の戻り値がタプルであることに注意。"
      ]
    },
    {
      "cell_type": "code",
      "execution_count": null,
      "metadata": {},
      "outputs": [],
      "source": [
        "for i,c in enumerate(colors):\n",
        "    print(f'{i} : {c}')"
      ]
    },
    {
      "cell_type": "markdown",
      "metadata": {},
      "source": [
        "タプルをリストや他のデータ構造の要素とすることができる。\n",
        "\n",
        "リストの要素がタプルである例。"
      ]
    },
    {
      "cell_type": "code",
      "execution_count": null,
      "metadata": {
        "trusted": true
      },
      "outputs": [],
      "source": [
        "results = [\n",
        "    ('Bob', 80),\n",
        "    ('Sue', 90),\n",
        "    ('Tim', 70),\n",
        "    ('Beth', 90)\n",
        "]\n",
        "for (name, record) in results:\n",
        "    print(f'{name}の成績は{record}点')"
      ]
    },
    {
      "cell_type": "markdown",
      "metadata": {},
      "source": [
        "タプルの中にタプルがあり、内側のタプルは文字列と配列を要素として持つ例。"
      ]
    },
    {
      "cell_type": "code",
      "execution_count": null,
      "metadata": {
        "trusted": true
      },
      "outputs": [],
      "source": [
        "colors2 = (\n",
        "    ('red', [255, 0, 0]),\n",
        "    ('green', [0, 255, 0]),\n",
        "    ('blue', [0, 0, 255]),\n",
        "    ('yellow', [255, 255, 0]),\n",
        "    ('orange', [255, 165, 0])\n",
        ")\n",
        "for c,v in colors2:\n",
        "    print(f'{c}={v}')"
      ]
    },
    {
      "cell_type": "markdown",
      "metadata": {},
      "source": [
        "タプルの要素を変更しようとすると、エラーとなる。\n",
        "\n",
        "例題では、エラーとなることが分かっているので、例外処理することで、プログラムが完全に停止してしまうのを防いでいる。"
      ]
    },
    {
      "cell_type": "code",
      "execution_count": null,
      "metadata": {
        "scrolled": true,
        "trusted": true
      },
      "outputs": [],
      "source": [
        "try:\n",
        "    data[0]=0\n",
        "except Exception as e:\n",
        "    print('エラーメッセージ：'+str(e))"
      ]
    }
  ],
  "metadata": {
    "kernelspec": {
      "display_name": "myenv",
      "language": "python",
      "name": "python3"
    },
    "language_info": {
      "codemirror_mode": {
        "name": "ipython",
        "version": 3
      },
      "file_extension": ".py",
      "mimetype": "text/x-python",
      "name": "python",
      "nbconvert_exporter": "python",
      "pygments_lexer": "ipython3",
      "version": "3.10.8 | packaged by conda-forge | (main, Nov 22 2022, 08:16:33) [MSC v.1929 64 bit (AMD64)]"
    },
    "vscode": {
      "interpreter": {
        "hash": "b3b804b6b7a7d9b475cf928428dd1242016eacc24c47853aaf0f8d1d2228aa39"
      }
    }
  },
  "nbformat": 4,
  "nbformat_minor": 2
}
