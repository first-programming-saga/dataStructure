{
 "cells": [
  {
   "cell_type": "markdown",
   "metadata": {},
   "source": [
    "# `int`型のオブジェクトの性質\n",
    "pythonでは、全ての変数はオブジェクトである。`int`や`float`のような基本的な変数も例外ではない。\n",
    "一方、`int`や`float`は、`immutable`、つまり変更不可なオブジェクトである。\n",
    "実際の動きを確かめる。\n",
    "- 小さな値の場合は、メモリ上にある定数を参照する\n",
    "- `immutable`であること"
   ]
  },
  {
   "cell_type": "markdown",
   "metadata": {},
   "source": [
    "## オブジェクトの格納場所\n",
    "- 小さな値は、メモリ上の定数を参照\n",
    "- 大きな値は、それぞれに格納"
   ]
  },
  {
   "cell_type": "code",
   "execution_count": null,
   "metadata": {},
   "outputs": [],
   "source": [
    "a = 1\n",
    "b = a #同じオブジェクトに異なる参照名をつける\n",
    "c = 1\n",
    "# aとbとcが同じオブジェクトになる\n",
    "print(a is b)\n",
    "print(a is c)\n",
    "print(id(a), id(b), id(c))"
   ]
  },
  {
   "cell_type": "code",
   "execution_count": null,
   "metadata": {},
   "outputs": [],
   "source": [
    "a = 1000\n",
    "b = a #同じオブジェクトに異なる参照名をつける\n",
    "c = 1000\n",
    "# aとbは同一オブジェクトであり、cは異なる\n",
    "print(a is b)\n",
    "print(a is c)\n",
    "print(id(a), id(b), id(c))"
   ]
  },
  {
   "cell_type": "markdown",
   "metadata": {},
   "source": [
    "## `immutable`であること\n",
    "- 値を変更すると異なるオブジェクトとなる"
   ]
  },
  {
   "cell_type": "code",
   "execution_count": null,
   "metadata": {},
   "outputs": [],
   "source": [
    "a = 1\n",
    "b = a\n",
    "print(id(a),id(b))\n",
    "a += 1\n",
    "# a のオブジェクトIDが変化している\n",
    "print(id(a),id(b))\n",
    "print(a,b)"
   ]
  }
 ],
 "metadata": {
  "kernelspec": {
   "display_name": "myenv",
   "language": "python",
   "name": "python3"
  },
  "language_info": {
   "codemirror_mode": {
    "name": "ipython",
    "version": 3
   },
   "file_extension": ".py",
   "mimetype": "text/x-python",
   "name": "python",
   "nbconvert_exporter": "python",
   "pygments_lexer": "ipython3",
   "version": "3.12.1"
  }
 },
 "nbformat": 4,
 "nbformat_minor": 2
}
