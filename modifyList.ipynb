{
  "cells": [
    {
      "cell_type": "markdown",
      "metadata": {},
      "source": [
        "# リストの操作"
      ]
    },
    {
      "attachments": {},
      "cell_type": "markdown",
      "metadata": {},
      "source": [
        "次に、リストの末尾にデータを追加する。\n",
        "- append()を使う。\n",
        "- +を使うこともできる。\n",
        "\n",
        "変数定義の後ろのコロン\":\"は、変数の型の明示をしている。無くても問題はない。"
      ]
    },
    {
      "cell_type": "code",
      "execution_count": null,
      "metadata": {
        "scrolled": true,
        "trusted": true
      },
      "outputs": [],
      "source": [
        "data :list[str]= []\n",
        "for x in range(0,5):\n",
        "    data.append(str(x))\n",
        "data"
      ]
    },
    {
      "cell_type": "code",
      "execution_count": null,
      "metadata": {
        "scrolled": true,
        "trusted": true
      },
      "outputs": [],
      "source": [
        "for x in range(5,10):\n",
        "    data += [str(x)]\n",
        "data"
      ]
    },
    {
      "cell_type": "code",
      "execution_count": null,
      "metadata": {
        "trusted": true
      },
      "outputs": [],
      "source": [
        "data2=['a', 'b', 'c', 'd']\n",
        "data2 += data\n",
        "data2"
      ]
    },
    {
      "cell_type": "markdown",
      "metadata": {},
      "source": [
        "## 要素の挿入、削除"
      ]
    },
    {
      "cell_type": "code",
      "execution_count": null,
      "metadata": {
        "trusted": true
      },
      "outputs": [],
      "source": [
        "data.insert(0, '-1') # 0番の前に要素を挿入\n",
        "data.pop(0) # 先頭の要素を取り出して削除\n",
        "data.remove('9') # 指定した要素を削除\n",
        "del data[0] # 先頭要素を削除\n",
        "data"
      ]
    },
    {
      "attachments": {},
      "cell_type": "markdown",
      "metadata": {},
      "source": [
        "リストの範囲を指定することで、一部分を取り出すことができる。\n",
        "\n",
        "以下の例では、先頭から6番の前、つまり5番までを取り出す例と、3番以降を取り出す例を示す。右端の指定方法に注意。"
      ]
    },
    {
      "cell_type": "code",
      "execution_count": null,
      "metadata": {
        "trusted": true
      },
      "outputs": [],
      "source": [
        "data3 = data[:6] # 5番までの取り出し\n",
        "data4 = data[3:] # 3番以降の取り出し\n",
        "data5 = data[2:6] # 2ばんから5番までの取り出し "
      ]
    },
    {
      "cell_type": "markdown",
      "metadata": {},
      "source": [
        "## 課題\n",
        "以下の操作でできるdata5の内容を予想するとともに、動作させることで確認しなさい。"
      ]
    },
    {
      "cell_type": "code",
      "execution_count": null,
      "metadata": {},
      "outputs": [],
      "source": [
        "data6 :list[str]= list()\n",
        "for k in range(0, 5):\n",
        "    data6.append(str(k))\n",
        "for k in range(5, 10):\n",
        "    data6 += str(k)\n",
        "data6 += ['a', 'b', 'c']\n",
        "data6"
      ]
    },
    {
      "cell_type": "code",
      "execution_count": null,
      "metadata": {},
      "outputs": [],
      "source": []
    },
    {
      "attachments": {},
      "cell_type": "markdown",
      "metadata": {},
      "source": [
        "## リストに対する判定\n",
        "\n",
        "リストに要素があるかを判定"
      ]
    },
    {
      "cell_type": "code",
      "execution_count": null,
      "metadata": {
        "trusted": true
      },
      "outputs": [],
      "source": [
        "listA = ['red', 'green', 'blue']\n",
        "'red' in listA"
      ]
    },
    {
      "cell_type": "markdown",
      "metadata": {
        "trusted": true
      },
      "source": [
        "リストの比較と複写について、例を示す。リストの比較には、内容の比較\"==\"と、オブジェクトそのものの比較\"is\"があることに注意する。\n",
        "\n",
        "- listAとlistBは、同じ文字列を要素として保有しているが、別物である。\n",
        "- listCはlistAに別名を付けたもので、同じものである。\n",
        "    - listCに要素を追加すると、listAも変化する\n",
        "- listDはlistAと同じ要素を持つ、別のリストである。\n",
        "    - listDから要素を削除しても、listAは変わらない"
      ]
    },
    {
      "cell_type": "code",
      "execution_count": null,
      "metadata": {
        "scrolled": true,
        "trusted": true
      },
      "outputs": [],
      "source": [
        "listA = ['red', 'green', 'blue']\n",
        "listB = ['red', 'green', 'blue']\n",
        "#listAに別名listCをつける\n",
        "listC = listA\n",
        "print(listA == listB)\n",
        "print(listC == listB)\n",
        "print(listA is listB)\n",
        "print(listA is listC)\n",
        "listC.append('alpha')\n",
        "print(listA)\n"
      ]
    },
    {
      "cell_type": "code",
      "execution_count": null,
      "metadata": {
        "scrolled": true,
        "trusted": true
      },
      "outputs": [],
      "source": [
        "#listDはlistAと同じ内容を有する別のリスト\n",
        "listD = listA.copy()\n",
        "listD.remove('alpha')\n",
        "print(listA)"
      ]
    },
    {
      "cell_type": "markdown",
      "metadata": {},
      "source": [
        "リストのコピーを作る別の方法"
      ]
    },
    {
      "cell_type": "code",
      "execution_count": null,
      "metadata": {
        "trusted": true
      },
      "outputs": [],
      "source": [
        "listD = list(listA)\n",
        "print(listD)"
      ]
    },
    {
      "cell_type": "markdown",
      "metadata": {},
      "source": [
        "## リストの要素を並べ替える"
      ]
    },
    {
      "cell_type": "markdown",
      "metadata": {},
      "source": [
        "リストの並び替え（整列、逆順、でたらめな並べ替え）の例を示す。"
      ]
    },
    {
      "cell_type": "code",
      "execution_count": null,
      "metadata": {
        "scrolled": false,
        "trusted": true
      },
      "outputs": [],
      "source": [
        "data = ['Kim', 'Bob', 'Mary', 'Tom', 'Sam', 'Beth', 'Ann']\n",
        "data.sort()\n",
        "print(data)\n",
        "data.reverse()\n",
        "print(data)\n",
        "import random\n",
        "random.shuffle(data)\n",
        "print(data)"
      ]
    },
    {
      "cell_type": "markdown",
      "metadata": {},
      "source": [
        "sorted()を用いると、元のリストはそのままに、整列したものを返す。"
      ]
    },
    {
      "cell_type": "code",
      "execution_count": null,
      "metadata": {
        "trusted": true
      },
      "outputs": [],
      "source": [
        "data2 = sorted(data)\n",
        "print(data2)\n",
        "print(data)"
      ]
    },
    {
      "cell_type": "markdown",
      "metadata": {},
      "source": [
        "## テキストからリストへ"
      ]
    },
    {
      "cell_type": "markdown",
      "metadata": {},
      "source": [
        "テキストを空白を区切りとして、リストへ変換することができる。また、リストから文字列へ変換することもできる"
      ]
    },
    {
      "cell_type": "code",
      "execution_count": null,
      "metadata": {
        "scrolled": true,
        "trusted": true
      },
      "outputs": [],
      "source": [
        "text = 'may god bless you'\n",
        "wordList = text.split(' ')\n",
        "print(wordList)\n",
        "\n",
        "joiner = ', '\n",
        "text2 = joiner.join(data)\n",
        "print(text2)"
      ]
    },
    {
      "cell_type": "markdown",
      "metadata": {},
      "source": [
        "2次元リストの例"
      ]
    },
    {
      "cell_type": "code",
      "execution_count": null,
      "metadata": {
        "scrolled": true,
        "trusted": true
      },
      "outputs": [],
      "source": [
        "colors = [\n",
        "    ['red', 255, 0, 0],\n",
        "    ['green', 0, 255, 0],\n",
        "    ['blue', 0, 0, 255],\n",
        "    ['yellow', 255, 255, 0]\n",
        "         ]\n",
        "for c in colors:\n",
        "    print(c)\n",
        "print(colors[0])\n",
        "print('redの要素')\n",
        "redComponent = colors[0][1:]\n",
        "print(redComponent)\n"
      ]
    }
  ],
  "metadata": {
    "kernelspec": {
      "display_name": "myenv",
      "language": "python",
      "name": "python3"
    },
    "language_info": {
      "codemirror_mode": {
        "name": "ipython",
        "version": 3
      },
      "file_extension": ".py",
      "mimetype": "text/x-python",
      "name": "python",
      "nbconvert_exporter": "python",
      "pygments_lexer": "ipython3",
      "version": "3.10.8 | packaged by conda-forge | (main, Nov 22 2022, 08:25:29) [Clang 14.0.6 ]"
    },
    "vscode": {
      "interpreter": {
        "hash": "5b50574aca822a4663eeb358827631e5cbe081f130521b0066dec6b864ef6f2f"
      }
    }
  },
  "nbformat": 4,
  "nbformat_minor": 2
}
