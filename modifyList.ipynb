{
  "cells": [
    {
      "metadata": {},
      "cell_type": "markdown",
      "source": "リストを変更する例を示す。初めに空のリストを生成する。ここでは、\"data=list()\"として生成しているが、\"data=[]\"でも、空のリストを生成できる。"
    },
    {
      "metadata": {
        "trusted": true
      },
      "cell_type": "code",
      "source": "data=list()",
      "execution_count": 2,
      "outputs": []
    },
    {
      "metadata": {},
      "cell_type": "markdown",
      "source": "次に、リストの末尾にデータを追加する。"
    },
    {
      "metadata": {
        "trusted": true
      },
      "cell_type": "code",
      "source": "for x in range(0,10):\n    data.append(str(x))",
      "execution_count": 3,
      "outputs": []
    },
    {
      "metadata": {
        "trusted": true
      },
      "cell_type": "code",
      "source": "data",
      "execution_count": 4,
      "outputs": [
        {
          "output_type": "execute_result",
          "execution_count": 4,
          "data": {
            "text/plain": "['0', '1', '2', '3', '4', '5', '6', '7', '8', '9']"
          },
          "metadata": {}
        }
      ]
    },
    {
      "metadata": {},
      "cell_type": "markdown",
      "source": "場所を指定し、その前に要素を挿入することもできる。ここでは、0番の前に要素を挿入する。"
    },
    {
      "metadata": {
        "trusted": true
      },
      "cell_type": "code",
      "source": "data.insert(0,'-1')",
      "execution_count": 5,
      "outputs": []
    },
    {
      "metadata": {
        "trusted": true
      },
      "cell_type": "code",
      "source": "data",
      "execution_count": 6,
      "outputs": [
        {
          "output_type": "execute_result",
          "execution_count": 6,
          "data": {
            "text/plain": "['-1', '0', '1', '2', '3', '4', '5', '6', '7', '8', '9']"
          },
          "metadata": {}
        }
      ]
    },
    {
      "metadata": {},
      "cell_type": "markdown",
      "source": "場所を指定して要素を取り出し、削除することもできる。ここでは、先頭の要素を取り出して削除する。"
    },
    {
      "metadata": {
        "trusted": true
      },
      "cell_type": "code",
      "source": "data.pop(0)",
      "execution_count": 7,
      "outputs": [
        {
          "output_type": "execute_result",
          "execution_count": 7,
          "data": {
            "text/plain": "'-1'"
          },
          "metadata": {}
        }
      ]
    },
    {
      "metadata": {
        "trusted": true
      },
      "cell_type": "code",
      "source": "data",
      "execution_count": 8,
      "outputs": [
        {
          "output_type": "execute_result",
          "execution_count": 8,
          "data": {
            "text/plain": "['0', '1', '2', '3', '4', '5', '6', '7', '8', '9']"
          },
          "metadata": {}
        }
      ]
    },
    {
      "metadata": {},
      "cell_type": "markdown",
      "source": "特定の要素を指定して削除することができる。ここでは、'9'を削除する。"
    },
    {
      "metadata": {
        "trusted": true
      },
      "cell_type": "code",
      "source": "data.remove('9')",
      "execution_count": 9,
      "outputs": []
    },
    {
      "metadata": {
        "trusted": true
      },
      "cell_type": "code",
      "source": "data",
      "execution_count": 10,
      "outputs": [
        {
          "output_type": "execute_result",
          "execution_count": 10,
          "data": {
            "text/plain": "['0', '1', '2', '3', '4', '5', '6', '7', '8']"
          },
          "metadata": {}
        }
      ]
    },
    {
      "metadata": {},
      "cell_type": "markdown",
      "source": "リストの連結は、\"+\"を用いて行うことができる。"
    },
    {
      "metadata": {
        "trusted": true
      },
      "cell_type": "code",
      "source": "data1 = [0,2,4,5]\ndata2 = [10,24,55]\ndata = data1 + data2",
      "execution_count": 11,
      "outputs": []
    },
    {
      "metadata": {
        "trusted": true
      },
      "cell_type": "code",
      "source": "data",
      "execution_count": 12,
      "outputs": [
        {
          "output_type": "execute_result",
          "execution_count": 12,
          "data": {
            "text/plain": "[0, 2, 4, 5, 10, 24, 55]"
          },
          "metadata": {}
        }
      ]
    },
    {
      "metadata": {},
      "cell_type": "markdown",
      "source": "リストの範囲を指定することで、一部分を取り出すことができる。以下の例では、先頭から6番の前、つまり5番までを取り出す例と、3番以降を取り出す例を示す。"
    },
    {
      "metadata": {
        "trusted": true
      },
      "cell_type": "code",
      "source": "data3 = data[:6]",
      "execution_count": 13,
      "outputs": []
    },
    {
      "metadata": {
        "trusted": true
      },
      "cell_type": "code",
      "source": "data3",
      "execution_count": 14,
      "outputs": [
        {
          "output_type": "execute_result",
          "execution_count": 14,
          "data": {
            "text/plain": "[0, 2, 4, 5, 10, 24]"
          },
          "metadata": {}
        }
      ]
    },
    {
      "metadata": {
        "trusted": true
      },
      "cell_type": "code",
      "source": "data4 = data[3:]",
      "execution_count": 15,
      "outputs": []
    },
    {
      "metadata": {
        "trusted": true
      },
      "cell_type": "code",
      "source": "data4",
      "execution_count": 16,
      "outputs": [
        {
          "output_type": "execute_result",
          "execution_count": 16,
          "data": {
            "text/plain": "[5, 10, 24, 55]"
          },
          "metadata": {}
        }
      ]
    },
    {
      "metadata": {
        "trusted": true
      },
      "cell_type": "markdown",
      "source": "リストの比較と複写について、例を示す。リストの比較には、内容の比較\"==\"と、オブジェクトそのものの比較\"is\"があることに注意する。"
    },
    {
      "metadata": {
        "trusted": true
      },
      "cell_type": "code",
      "source": "listA = ['red','green','blue']\nlistB = ['red','green','blue']\n#listAに別名listCをつける\nlistC = listA\nprint(listA == listB)\nprint(listC == listB)\nprint(listA is listB)\nprint(listA is listC)\nlistC.append('alpha')\nprint(listA)\n#listDはlistAと同じ内容を有する別のリスト\nlistD = listA.copy()\nlistD.remove('alpha')\nprint(listA)",
      "execution_count": 17,
      "outputs": [
        {
          "output_type": "stream",
          "text": "True\nTrue\nFalse\nTrue\n['red', 'green', 'blue', 'alpha']\n['red', 'green', 'blue', 'alpha']\n",
          "name": "stdout"
        }
      ]
    },
    {
      "metadata": {},
      "cell_type": "markdown",
      "source": "リストの並び替え（整列、逆順、でたらめな並べ替え）の例を示す。"
    },
    {
      "metadata": {
        "trusted": true
      },
      "cell_type": "code",
      "source": "data = ['Bob','Mary','Tom','Sam','Beth','Kim']\ndata.sort()\nprint(data)\ndata.reverse()\nprint(data)\nimport random\nrandom.shuffle(data)\nprint(data)",
      "execution_count": 18,
      "outputs": [
        {
          "output_type": "stream",
          "text": "['Beth', 'Bob', 'Kim', 'Mary', 'Sam', 'Tom']\n['Tom', 'Sam', 'Mary', 'Kim', 'Bob', 'Beth']\n['Tom', 'Mary', 'Sam', 'Kim', 'Bob', 'Beth']\n",
          "name": "stdout"
        }
      ]
    },
    {
      "metadata": {
        "trusted": true
      },
      "cell_type": "code",
      "source": "",
      "execution_count": null,
      "outputs": []
    }
  ],
  "metadata": {
    "kernelspec": {
      "name": "python36",
      "display_name": "Python 3.6",
      "language": "python"
    },
    "language_info": {
      "mimetype": "text/x-python",
      "nbconvert_exporter": "python",
      "name": "python",
      "pygments_lexer": "ipython3",
      "version": "3.6.6",
      "file_extension": ".py",
      "codemirror_mode": {
        "version": 3,
        "name": "ipython"
      }
    }
  },
  "nbformat": 4,
  "nbformat_minor": 2
}