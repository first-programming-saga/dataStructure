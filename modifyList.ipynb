{
  "cells": [
    {
      "metadata": {},
      "cell_type": "markdown",
      "source": [
        "# リストの操作"
      ]
    },
    {
      "metadata": {},
      "cell_type": "markdown",
      "source": [
        "次に、リストの末尾にデータを追加する。append()を使う。+を使うこともできる。"
      ]
    },
    {
      "metadata": {
        "trusted": true,
        "scrolled": true
      },
      "cell_type": "code",
      "source": [
        "data = []\n",
        "for x in range(0,5):\n",
        "    data.append(str(x))\n",
        "data"
      ],
      "execution_count": null,
      "outputs": []
    },
    {
      "metadata": {
        "trusted": true,
        "scrolled": true
      },
      "cell_type": "code",
      "source": [
        "for x in range(5,10):\n",
        "    data += [str(x)]\n",
        "data"
      ],
      "execution_count": null,
      "outputs": []
    },
    {
      "metadata": {
        "trusted": true
      },
      "cell_type": "code",
      "source": [
        "data2=['a', 'b', 'c', 'd']\n",
        "data2 += data\n",
        "data2"
      ],
      "execution_count": null,
      "outputs": []
    },
    {
      "source": [
        "## 要素の挿入、削除"
      ],
      "cell_type": "markdown",
      "metadata": {}
    },
    {
      "metadata": {
        "trusted": true
      },
      "cell_type": "code",
      "source": [
        "data.insert(0, '-1') # 0番の前に要素を挿入\n",
        "data.pop(0) # 先頭の要素を取り出して削除\n",
        "data.remove('9') # 指定した要素を削除\n",
        "del data[0] # 先頭要素を削除\n",
        "data"
      ],
      "execution_count": null,
      "outputs": []
    },
    {
      "metadata": {},
      "cell_type": "markdown",
      "source": [
        "リストの範囲を指定することで、一部分を取り出すことができる。以下の例では、先頭から6番の前、つまり5番までを取り出す例と、3番以降を取り出す例を示す。"
      ]
    },
    {
      "metadata": {
        "trusted": true
      },
      "cell_type": "code",
      "source": [
        "data3 = data[:6] # 5番までの取り出し\n",
        "data4 = data[3:] # 3番以降の取り出し\n",
        "data5 = data[2:6] # 2ばんから5番までの取り出し "
      ],
      "execution_count": null,
      "outputs": []
    },
    {
      "source": [
        "## 課題\n",
        "以下の操作でできるdata5の内容を予想するとともに、動作させることで確認しなさい。"
      ],
      "cell_type": "markdown",
      "metadata": {}
    },
    {
      "cell_type": "code",
      "execution_count": null,
      "metadata": {},
      "outputs": [],
      "source": [
        "data6 = list()\n",
        "for k in range(0, 5):\n",
        "    data6.append(str(k))\n",
        "for k in range(5, 10):\n",
        "    data6 += str(k)\n",
        "data6 += ['a', 'b', 'c']\n",
        "data6"
      ]
    },
    {
      "cell_type": "code",
      "execution_count": null,
      "metadata": {},
      "outputs": [],
      "source": []
    },
    {
      "metadata": {},
      "cell_type": "markdown",
      "source": [
        "## リストに対する判定"
      ]
    },
    {
      "metadata": {
        "trusted": true
      },
      "cell_type": "code",
      "source": [
        "listA = ['red', 'green', 'blue']\n",
        "'red' in listA"
      ],
      "execution_count": null,
      "outputs": []
    },
    {
      "metadata": {
        "trusted": true
      },
      "cell_type": "markdown",
      "source": [
        "リストの比較と複写について、例を示す。リストの比較には、内容の比較\"==\"と、オブジェクトそのものの比較\"is\"があることに注意する。\n",
        "\n",
        "- listAとlistBは、同じ文字列を要素として保有しているが、別物である。\n",
        "- listCはlistAに別名を付けたもので、同じものである。\n",
        "    - listCに要素を追加すると、listAも変化する\n",
        "- listDはlistAと同じ要素を持つ、別のリストである。\n",
        "    - listDから要素を削除しても、listAは変わらない"
      ]
    },
    {
      "metadata": {
        "trusted": true,
        "scrolled": true
      },
      "cell_type": "code",
      "source": [
        "listA = ['red', 'green', 'blue']\n",
        "listB = ['red', 'green', 'blue']\n",
        "#listAに別名listCをつける\n",
        "listC = listA\n",
        "print(listA == listB)\n",
        "print(listC == listB)\n",
        "print(listA is listB)\n",
        "print(listA is listC)\n",
        "listC.append('alpha')\n",
        "print(listA)\n"
      ],
      "execution_count": null,
      "outputs": []
    },
    {
      "metadata": {
        "trusted": true,
        "scrolled": true
      },
      "cell_type": "code",
      "source": [
        "#listDはlistAと同じ内容を有する別のリスト\n",
        "listD = listA.copy()\n",
        "listD.remove('alpha')\n",
        "print(listA)"
      ],
      "execution_count": null,
      "outputs": []
    },
    {
      "metadata": {},
      "cell_type": "markdown",
      "source": [
        "リストのコピーを作る別の方法"
      ]
    },
    {
      "metadata": {
        "trusted": true
      },
      "cell_type": "code",
      "source": [
        "listD = list(listA)\n",
        "print(listD)"
      ],
      "execution_count": null,
      "outputs": []
    },
    {
      "metadata": {},
      "cell_type": "markdown",
      "source": [
        "## リストの要素を並べ替える"
      ]
    },
    {
      "metadata": {},
      "cell_type": "markdown",
      "source": [
        "リストの並び替え（整列、逆順、でたらめな並べ替え）の例を示す。"
      ]
    },
    {
      "metadata": {
        "trusted": true,
        "scrolled": false
      },
      "cell_type": "code",
      "source": [
        "data = ['Kim', 'Bob', 'Mary', 'Tom', 'Sam', 'Beth', 'Ann']\n",
        "data.sort()\n",
        "print(data)\n",
        "data.reverse()\n",
        "print(data)\n",
        "import random\n",
        "random.shuffle(data)\n",
        "print(data)"
      ],
      "execution_count": null,
      "outputs": []
    },
    {
      "metadata": {},
      "cell_type": "markdown",
      "source": [
        "sorted()を用いると、元のリストはそのままに、整列したものを返す。"
      ]
    },
    {
      "metadata": {
        "trusted": true
      },
      "cell_type": "code",
      "source": [
        "data2 = sorted(data)\n",
        "print(data2)\n",
        "print(data)"
      ],
      "execution_count": null,
      "outputs": []
    },
    {
      "metadata": {},
      "cell_type": "markdown",
      "source": [
        "## テキストからリストへ"
      ]
    },
    {
      "metadata": {},
      "cell_type": "markdown",
      "source": [
        "テキストを空白を区切りとして、リストへ変換することができる。また、リストから文字列へ変換することもできる"
      ]
    },
    {
      "metadata": {
        "trusted": true,
        "scrolled": true
      },
      "cell_type": "code",
      "source": [
        "text = 'may god bless you'\n",
        "wordList = text.split(' ')\n",
        "print(wordList)\n",
        "\n",
        "joiner = ', '\n",
        "text2 = joiner.join(data)\n",
        "print(text2)"
      ],
      "execution_count": null,
      "outputs": []
    },
    {
      "metadata": {},
      "cell_type": "markdown",
      "source": [
        "2次元リストの例"
      ]
    },
    {
      "metadata": {
        "trusted": true,
        "scrolled": true
      },
      "cell_type": "code",
      "source": [
        "colors = [\n",
        "    ['red', 255, 0, 0],\n",
        "    ['green', 0, 255, 0],\n",
        "    ['blue', 0, 0, 255],\n",
        "    ['yellow', 255, 255, 0]\n",
        "         ]\n",
        "for c in colors:\n",
        "    print(c)\n",
        "print(colors[0])\n",
        "print('redの要素')\n",
        "redComponent = colors[0][1:]\n",
        "print(redComponent)\n"
      ],
      "execution_count": null,
      "outputs": []
    },
    {
      "metadata": {},
      "cell_type": "markdown",
      "source": [
        "# 小テスト課題\n",
        "\n",
        "[3,-4,2,4,-5]というdataのコピーをdata2として作成する。\n",
        "その後に、data2の各要素を二乗して、data2の元の位置に設定する。\n",
        "結果として、data2として[9, 16, 4, 16, 25]となる。\n",
        "\n",
        "このようなプログラムを作成しなさい。"
      ]
    },
    {
      "metadata": {
        "trusted": true
      },
      "cell_type": "code",
      "source": [],
      "execution_count": null,
      "outputs": []
    }
  ],
  "metadata": {
    "kernelspec": {
      "name": "python3",
      "display_name": "Python 3",
      "language": "python"
    },
    "language_info": {
      "mimetype": "text/x-python",
      "nbconvert_exporter": "python",
      "name": "python",
      "pygments_lexer": "ipython3",
      "version": "3.9.1-final",
      "file_extension": ".py",
      "codemirror_mode": {
        "version": 3,
        "name": "ipython"
      }
    }
  },
  "nbformat": 4,
  "nbformat_minor": 2
}