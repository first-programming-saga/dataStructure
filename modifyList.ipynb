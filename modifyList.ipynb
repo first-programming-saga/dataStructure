{
  "cells": [
    {
      "metadata": {},
      "cell_type": "markdown",
      "source": "# リストの操作"
    },
    {
      "metadata": {},
      "cell_type": "markdown",
      "source": "次に、リストの末尾にデータを追加する。append()を使う。+を使うこともできる。"
    },
    {
      "metadata": {
        "trusted": true,
        "scrolled": true
      },
      "cell_type": "code",
      "source": "data = []\nfor x in range(0,10):\n    data.append(str(x))\ndata",
      "execution_count": null,
      "outputs": []
    },
    {
      "metadata": {
        "trusted": true,
        "scrolled": true
      },
      "cell_type": "code",
      "source": "data = []\nfor x in range(0,10):\n    data += [str(x)]\ndata",
      "execution_count": null,
      "outputs": []
    },
    {
      "metadata": {
        "trusted": true
      },
      "cell_type": "code",
      "source": "data2=['a','b','c','d']\ndata2 += data\ndata2",
      "execution_count": null,
      "outputs": []
    },
    {
      "metadata": {},
      "cell_type": "markdown",
      "source": "場所を指定し、その前に要素を挿入することもできる。ここでは、0番の前に要素を挿入する。insert()を使う。"
    },
    {
      "metadata": {
        "trusted": true
      },
      "cell_type": "code",
      "source": "data.insert(0,'-1')\ndata",
      "execution_count": null,
      "outputs": []
    },
    {
      "metadata": {},
      "cell_type": "markdown",
      "source": "場所を指定して要素を取り出し、削除することもできる。pop()を使う。ここでは、先頭の要素を取り出して削除する。"
    },
    {
      "metadata": {
        "trusted": true
      },
      "cell_type": "code",
      "source": "data.pop(0)",
      "execution_count": null,
      "outputs": []
    },
    {
      "metadata": {
        "trusted": true
      },
      "cell_type": "code",
      "source": "data",
      "execution_count": null,
      "outputs": []
    },
    {
      "metadata": {},
      "cell_type": "markdown",
      "source": "特定の要素を指定して削除することができる。remove()を使う。ここでは、'9'を削除する。"
    },
    {
      "metadata": {
        "trusted": true
      },
      "cell_type": "code",
      "source": "data.remove('9')",
      "execution_count": null,
      "outputs": []
    },
    {
      "metadata": {
        "trusted": true
      },
      "cell_type": "code",
      "source": "data",
      "execution_count": null,
      "outputs": []
    },
    {
      "metadata": {},
      "cell_type": "markdown",
      "source": "リストの範囲を指定することで、一部分を取り出すことができる。以下の例では、先頭から6番の前、つまり5番までを取り出す例と、3番以降を取り出す例を示す。"
    },
    {
      "metadata": {
        "trusted": true
      },
      "cell_type": "code",
      "source": "data3 = data[:6]",
      "execution_count": null,
      "outputs": []
    },
    {
      "metadata": {
        "trusted": true
      },
      "cell_type": "code",
      "source": "data3",
      "execution_count": null,
      "outputs": []
    },
    {
      "metadata": {
        "trusted": true
      },
      "cell_type": "code",
      "source": "data4 = data[3:]",
      "execution_count": null,
      "outputs": []
    },
    {
      "metadata": {
        "trusted": true,
        "scrolled": true
      },
      "cell_type": "code",
      "source": "data4",
      "execution_count": null,
      "outputs": []
    },
    {
      "metadata": {},
      "cell_type": "markdown",
      "source": "## リストに対する判定"
    },
    {
      "metadata": {
        "trusted": true
      },
      "cell_type": "code",
      "source": "listA = ['red','green','blue']\n'red' in listA",
      "execution_count": null,
      "outputs": []
    },
    {
      "metadata": {
        "trusted": true
      },
      "cell_type": "markdown",
      "source": "リストの比較と複写について、例を示す。リストの比較には、内容の比較\"==\"と、オブジェクトそのものの比較\"is\"があることに注意する。\n\n- listAとlistBは、同じ文字列を要素として保有しているが、別物である。\n- listCはlistAに別名を付けたもので、同じものである。\n    - listCに要素を追加すると、listAも変化する\n- listDはlistAと同じ要素を持つ、別のリストである。\n    - listDから要素を削除しても、listAは変わらない"
    },
    {
      "metadata": {
        "trusted": true,
        "scrolled": true
      },
      "cell_type": "code",
      "source": "listA = ['red','green','blue']\nlistB = ['red','green','blue']\n#listAに別名listCをつける\nlistC = listA\nprint(listA == listB)\nprint(listC == listB)\nprint(listA is listB)\nprint(listA is listC)\nlistC.append('alpha')\nprint(listA)\n",
      "execution_count": null,
      "outputs": []
    },
    {
      "metadata": {
        "trusted": true,
        "scrolled": true
      },
      "cell_type": "code",
      "source": "#listDはlistAと同じ内容を有する別のリスト\nlistD = listA.copy()\nlistD.remove('alpha')\nprint(listA)",
      "execution_count": null,
      "outputs": []
    },
    {
      "metadata": {},
      "cell_type": "markdown",
      "source": "リストのコピーを作る別の方法"
    },
    {
      "metadata": {
        "trusted": true
      },
      "cell_type": "code",
      "source": "listD = list(listA)\nprint(listD)",
      "execution_count": null,
      "outputs": []
    },
    {
      "metadata": {},
      "cell_type": "markdown",
      "source": "## リストの要素を並べ替える"
    },
    {
      "metadata": {},
      "cell_type": "markdown",
      "source": "リストの並び替え（整列、逆順、でたらめな並べ替え）の例を示す。"
    },
    {
      "metadata": {
        "trusted": true,
        "scrolled": false
      },
      "cell_type": "code",
      "source": "data = ['Kim','Bob','Mary','Tom','Sam','Beth','Ann']\ndata.sort()\nprint(data)\ndata.reverse()\nprint(data)\nimport random\nrandom.shuffle(data)\nprint(data)",
      "execution_count": null,
      "outputs": []
    },
    {
      "metadata": {},
      "cell_type": "markdown",
      "source": "sorted()を用いると、元のリストはそのままに、整列したものを返す。"
    },
    {
      "metadata": {
        "trusted": true
      },
      "cell_type": "code",
      "source": "data2 = sorted(data)\nprint(data2)\nprint(data)",
      "execution_count": null,
      "outputs": []
    },
    {
      "metadata": {},
      "cell_type": "markdown",
      "source": "## テキストからリストへ"
    },
    {
      "metadata": {},
      "cell_type": "markdown",
      "source": "テキストを空白を区切りとして、リストへ変換することができる。また、リストから文字列へ変換することもできる"
    },
    {
      "metadata": {
        "trusted": true,
        "scrolled": true
      },
      "cell_type": "code",
      "source": "text = 'may god bless you'\nwordList = text.split(' ')\nprint(wordList)\n\njoiner = ', '\ntext2 = joiner.join(data)\nprint(text2)",
      "execution_count": null,
      "outputs": []
    },
    {
      "metadata": {},
      "cell_type": "markdown",
      "source": "2次元リストの例"
    },
    {
      "metadata": {
        "trusted": true,
        "scrolled": true
      },
      "cell_type": "code",
      "source": "colors = [\n    ['red',255,0,0],\n    ['breen',0,255,0],\n    ['blue',0,0,255],\n    ['yellow',255,255,0]\n         ]\nfor c in colors:\n    print(c)\nprint(colors[0])\nprint('redの要素')\nredComponent = colors[0][1:]\nprint(redComponent)\n",
      "execution_count": null,
      "outputs": []
    },
    {
      "metadata": {},
      "cell_type": "markdown",
      "source": "# 小テスト課題\n\n[3,-4,2,4,-5]というdataのコピーをdata2として作成する。\nその後に、data2の各要素を二乗して、data2の元の位置に設定する。\n結果として、data2として[9, 16, 4, 16, 25]となる。\n\nこのようなプログラムを作成しなさい。"
    },
    {
      "metadata": {
        "trusted": true
      },
      "cell_type": "code",
      "source": "",
      "execution_count": null,
      "outputs": []
    }
  ],
  "metadata": {
    "kernelspec": {
      "name": "python36",
      "display_name": "Python 3.6",
      "language": "python"
    },
    "language_info": {
      "mimetype": "text/x-python",
      "nbconvert_exporter": "python",
      "name": "python",
      "pygments_lexer": "ipython3",
      "version": "3.6.6",
      "file_extension": ".py",
      "codemirror_mode": {
        "version": 3,
        "name": "ipython"
      }
    }
  },
  "nbformat": 4,
  "nbformat_minor": 2
}