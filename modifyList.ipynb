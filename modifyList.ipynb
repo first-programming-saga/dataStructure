{
  "cells": [
    {
      "metadata": {},
      "cell_type": "markdown",
      "source": "リストを変更する例を示す。初めに空のリストを生成する。ここでは、\"data=list()\"として生成しているが、\"data=[]\"でも、空のリストを生成できる。"
    },
    {
      "metadata": {
        "trusted": true
      },
      "cell_type": "code",
      "source": "data=list()",
      "execution_count": 1,
      "outputs": []
    },
    {
      "metadata": {},
      "cell_type": "markdown",
      "source": "次に、リストの末尾にデータを追加する。"
    },
    {
      "metadata": {
        "trusted": true
      },
      "cell_type": "code",
      "source": "for x in range(0,10):\n    data.append(str(x))",
      "execution_count": 2,
      "outputs": []
    },
    {
      "metadata": {
        "trusted": true
      },
      "cell_type": "code",
      "source": "data",
      "execution_count": 3,
      "outputs": [
        {
          "output_type": "execute_result",
          "execution_count": 3,
          "data": {
            "text/plain": "['0', '1', '2', '3', '4', '5', '6', '7', '8', '9']"
          },
          "metadata": {}
        }
      ]
    },
    {
      "metadata": {},
      "cell_type": "markdown",
      "source": "場所を指定し、その前に要素を挿入することもできる。ここでは、0番の前に要素を挿入する。"
    },
    {
      "metadata": {
        "trusted": true
      },
      "cell_type": "code",
      "source": "data.insert(0,'-1')",
      "execution_count": 4,
      "outputs": []
    },
    {
      "metadata": {
        "trusted": true
      },
      "cell_type": "code",
      "source": "data",
      "execution_count": 5,
      "outputs": [
        {
          "output_type": "execute_result",
          "execution_count": 5,
          "data": {
            "text/plain": "['-1', '0', '1', '2', '3', '4', '5', '6', '7', '8', '9']"
          },
          "metadata": {}
        }
      ]
    },
    {
      "metadata": {},
      "cell_type": "markdown",
      "source": "場所を指定して要素を取り出し、削除することもできる。ここでは、先頭の要素を取り出して削除する。"
    },
    {
      "metadata": {
        "trusted": true
      },
      "cell_type": "code",
      "source": "data.pop(0)",
      "execution_count": 6,
      "outputs": [
        {
          "output_type": "execute_result",
          "execution_count": 6,
          "data": {
            "text/plain": "'-1'"
          },
          "metadata": {}
        }
      ]
    },
    {
      "metadata": {
        "trusted": true
      },
      "cell_type": "code",
      "source": "data",
      "execution_count": 7,
      "outputs": [
        {
          "output_type": "execute_result",
          "execution_count": 7,
          "data": {
            "text/plain": "['0', '1', '2', '3', '4', '5', '6', '7', '8', '9']"
          },
          "metadata": {}
        }
      ]
    },
    {
      "metadata": {},
      "cell_type": "markdown",
      "source": "特定の要素を指定して削除することができる。ここでは、'9'を削除する。"
    },
    {
      "metadata": {
        "trusted": true
      },
      "cell_type": "code",
      "source": "data.remove('9')",
      "execution_count": 8,
      "outputs": []
    },
    {
      "metadata": {
        "trusted": true
      },
      "cell_type": "code",
      "source": "data",
      "execution_count": 9,
      "outputs": [
        {
          "output_type": "execute_result",
          "execution_count": 9,
          "data": {
            "text/plain": "['0', '1', '2', '3', '4', '5', '6', '7', '8']"
          },
          "metadata": {}
        }
      ]
    },
    {
      "metadata": {},
      "cell_type": "markdown",
      "source": "リストの連結は、\"+\"を用いて行うことができる。"
    },
    {
      "metadata": {
        "trusted": true
      },
      "cell_type": "code",
      "source": "data1 = [0,2,4,5]\ndata2 = [10,24,55]\ndata = data1 + data2",
      "execution_count": 10,
      "outputs": []
    },
    {
      "metadata": {
        "trusted": true
      },
      "cell_type": "code",
      "source": "data",
      "execution_count": 11,
      "outputs": [
        {
          "output_type": "execute_result",
          "execution_count": 11,
          "data": {
            "text/plain": "[0, 2, 4, 5, 10, 24, 55]"
          },
          "metadata": {}
        }
      ]
    },
    {
      "metadata": {},
      "cell_type": "markdown",
      "source": "リストの範囲を指定することで、一部分を取り出すことができる。以下の例では、先頭から6番の前、つまり5番までを取り出す例と、3番以降を取り出す例を示す。"
    },
    {
      "metadata": {
        "trusted": true
      },
      "cell_type": "code",
      "source": "data3 = data[:6]",
      "execution_count": 12,
      "outputs": []
    },
    {
      "metadata": {
        "trusted": true
      },
      "cell_type": "code",
      "source": "data3",
      "execution_count": 13,
      "outputs": [
        {
          "output_type": "execute_result",
          "execution_count": 13,
          "data": {
            "text/plain": "[0, 2, 4, 5, 10, 24]"
          },
          "metadata": {}
        }
      ]
    },
    {
      "metadata": {
        "trusted": true
      },
      "cell_type": "code",
      "source": "data4 = data[3:]",
      "execution_count": 14,
      "outputs": []
    },
    {
      "metadata": {
        "trusted": true
      },
      "cell_type": "code",
      "source": "data4",
      "execution_count": 15,
      "outputs": [
        {
          "output_type": "execute_result",
          "execution_count": 15,
          "data": {
            "text/plain": "[5, 10, 24, 55]"
          },
          "metadata": {}
        }
      ]
    },
    {
      "metadata": {
        "trusted": true
      },
      "cell_type": "markdown",
      "source": "リストの比較と複写について、例を示す。リストの比較には、内容の比較\"==\"と、オブジェクトそのものの比較\"is\"があることに注意する。"
    },
    {
      "metadata": {
        "trusted": true
      },
      "cell_type": "code",
      "source": "listA = ['red','green','blue']\nlistB = ['red','green','blue']\n#listAに別名listCをつける\nlistC = listA\nprint(listA == listB)\nprint(listC == listB)\nprint(listA is listB)\nprint(listA is listC)\nlistC.append('alpha')\nprint(listA)\n#listDはlistAと同じ内容を有する別のリスト\nlistD = listA.copy()\nlistD.remove('alpha')\nprint(listA)",
      "execution_count": 16,
      "outputs": [
        {
          "output_type": "stream",
          "text": "True\nTrue\nFalse\nTrue\n['red', 'green', 'blue', 'alpha']\n['red', 'green', 'blue', 'alpha']\n",
          "name": "stdout"
        }
      ]
    },
    {
      "metadata": {},
      "cell_type": "markdown",
      "source": "リストの並び替え（整列、逆順、でたらめな並べ替え）の例を示す。"
    },
    {
      "metadata": {
        "trusted": true,
        "scrolled": true
      },
      "cell_type": "code",
      "source": "data = ['Bob','Mary','Tom','Sam','Beth','Kim']\ndata.sort()\nprint(data)\ndata.reverse()\nprint(data)\nimport random\nrandom.shuffle(data)\nprint(data)",
      "execution_count": 17,
      "outputs": [
        {
          "output_type": "stream",
          "text": "['Beth', 'Bob', 'Kim', 'Mary', 'Sam', 'Tom']\n['Tom', 'Sam', 'Mary', 'Kim', 'Bob', 'Beth']\n['Tom', 'Sam', 'Beth', 'Kim', 'Mary', 'Bob']\n",
          "name": "stdout"
        }
      ]
    },
    {
      "metadata": {},
      "cell_type": "markdown",
      "source": "テキストを空白を区切りとして、リストへ変換することができる。また、リストから文字列へ変換することもできる"
    },
    {
      "metadata": {
        "trusted": true,
        "scrolled": true
      },
      "cell_type": "code",
      "source": "text = 'may god bless you'\nwordList = text.split(' ')\nprint(wordList)\n\njoiner = ', '\ntext2 = joiner.join(data)\nprint(text2)",
      "execution_count": 22,
      "outputs": [
        {
          "output_type": "stream",
          "text": "['may', 'god', 'bless', 'you']\nTom, Sam, Beth, Kim, Mary, Bob\n",
          "name": "stdout"
        }
      ]
    },
    {
      "metadata": {},
      "cell_type": "markdown",
      "source": "2次元リストの例"
    },
    {
      "metadata": {
        "trusted": true
      },
      "cell_type": "code",
      "source": "colors = [\n    ['red',255,0,0],\n    ['breen',0,255,0],\n    ['blue',0,0,255],\n    ['yellow',255,255,0]\n         ]\nfor c in colors:\n    print(c)\nprint(colors[0])\nprint('redの要素')\nredComponent = colors[0][1:]\nprint(redComponent)\n",
      "execution_count": 24,
      "outputs": [
        {
          "output_type": "stream",
          "text": "['red', 255, 0, 0]\n['breen', 0, 255, 0]\n['blue', 0, 0, 255]\n['yellow', 255, 255, 0]\n['red', 255, 0, 0]\nredの要素\n[255, 0, 0]\n",
          "name": "stdout"
        }
      ]
    },
    {
      "metadata": {
        "trusted": true
      },
      "cell_type": "code",
      "source": "",
      "execution_count": null,
      "outputs": []
    }
  ],
  "metadata": {
    "kernelspec": {
      "name": "python36",
      "display_name": "Python 3.6",
      "language": "python"
    },
    "language_info": {
      "mimetype": "text/x-python",
      "nbconvert_exporter": "python",
      "name": "python",
      "pygments_lexer": "ipython3",
      "version": "3.6.6",
      "file_extension": ".py",
      "codemirror_mode": {
        "version": 3,
        "name": "ipython"
      }
    }
  },
  "nbformat": 4,
  "nbformat_minor": 2
}