{
 "cells": [
  {
   "cell_type": "markdown",
   "metadata": {},
   "source": [
    "# 課題\n",
    "また、二つの集合の排他的和(XOR)は\n",
    "$$X\\ \\text{XOR}\\ Y=(X\\cup Y)\\backslash(X\\cap Y)$$\n",
    "は、$X$または$Y$のどちらか一方のみに含まれる要素の集合である。\n",
    "pythonでは、XORは演算子\"^\"で行うことができる。\n",
    "\n",
    "set1とset2に対して、上式の両辺をそれぞれ計算して確認しなさい。"
   ]
  },
  {
   "cell_type": "code",
   "execution_count": null,
   "metadata": {},
   "outputs": [],
   "source": [
    "set1 = {'red', 'green', 'blue'}\n",
    "set2 = {'red', 'yellow', 'orange'}\n"
   ]
  }
 ],
 "metadata": {
  "kernelspec": {
   "display_name": "myenv",
   "language": "python",
   "name": "python3"
  },
  "language_info": {
   "name": "python",
   "version": "3.10.8 | packaged by conda-forge | (main, Nov 22 2022, 08:25:29) [Clang 14.0.6 ]"
  },
  "orig_nbformat": 4,
  "vscode": {
   "interpreter": {
    "hash": "5b50574aca822a4663eeb358827631e5cbe081f130521b0066dec6b864ef6f2f"
   }
  }
 },
 "nbformat": 4,
 "nbformat_minor": 2
}
