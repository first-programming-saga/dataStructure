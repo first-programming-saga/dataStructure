{
  "cells": [
    {
      "attachments": {},
      "cell_type": "markdown",
      "metadata": {
        "trusted": true
      },
      "source": [
        "# リストを作る\n",
        "\n",
        "- リストは、要素を一列に並べて保持するデータ構造である。\n",
        "- 要素の集まりに一つの名前を付けて管理することができるとともに、一つ一つを取り出すことができる。\n",
        "- 要素は、それぞれに位置に対応して、0から始まる整数が対応している。つまり〇番目として読み書きできる。\n",
        "- 最後から-1、-2のように指定することもできる"
      ]
    },
    {
      "attachments": {},
      "cell_type": "markdown",
      "metadata": {},
      "source": [
        "## リストの生成\n",
        "\n",
        "要素の列挙による生成方法。\n",
        "- 括弧`[]`を使う\n",
        "- 要素をカンマで区切り、列挙する"
      ]
    },
    {
      "cell_type": "code",
      "execution_count": null,
      "metadata": {
        "trusted": true
      },
      "outputs": [],
      "source": [
        "numbers = [10, 20, 0, -10, 5, 7, -7]\n",
        "numbers"
      ]
    },
    {
      "attachments": {},
      "cell_type": "markdown",
      "metadata": {},
      "source": [
        "注: セルのなかで、変数名だけを書くと、印刷できる。"
      ]
    },
    {
      "cell_type": "code",
      "execution_count": null,
      "metadata": {
        "trusted": true
      },
      "outputs": [],
      "source": [
        "colors = ['red', 'blue', 'green']\n",
        "colors"
      ]
    },
    {
      "attachments": {},
      "cell_type": "markdown",
      "metadata": {},
      "source": [
        "リストの初期値として、同じ値を複数回含むものが必要となることがある。次の例では、ゼロが5個入ったリストを生成する。"
      ]
    },
    {
      "cell_type": "code",
      "execution_count": null,
      "metadata": {
        "trusted": true
      },
      "outputs": [],
      "source": [
        "zeros = [0] * 5\n",
        "zeros"
      ]
    },
    {
      "cell_type": "markdown",
      "metadata": {},
      "source": [
        "リストの初期値として、ある並びを繰り返したものを生成することもできる。"
      ]
    },
    {
      "cell_type": "code",
      "execution_count": null,
      "metadata": {
        "trusted": true
      },
      "outputs": [],
      "source": [
        "xyz  = ['x', 'y', 'z'] * 3\n",
        "xyz"
      ]
    },
    {
      "attachments": {},
      "cell_type": "markdown",
      "metadata": {},
      "source": [
        "リストは、他の順序のあるもの ( _iterable_ と呼ぶ。後述) から生成することもできる。"
      ]
    },
    {
      "cell_type": "code",
      "execution_count": null,
      "metadata": {
        "trusted": true
      },
      "outputs": [],
      "source": [
        "evens = list(range(0, 10, 2))\n",
        "evens"
      ]
    },
    {
      "cell_type": "code",
      "execution_count": null,
      "metadata": {
        "trusted": true
      },
      "outputs": [],
      "source": [
        "chars = list('saga')\n",
        "chars"
      ]
    },
    {
      "attachments": {},
      "cell_type": "markdown",
      "metadata": {},
      "source": [
        "## 空のリストの生成\n",
        "- リストオブジェクトの生成メソッド: `list()`\n",
        "- 空リスト: `[]`"
      ]
    },
    {
      "cell_type": "code",
      "execution_count": null,
      "metadata": {
        "trusted": true
      },
      "outputs": [],
      "source": [
        "nullList = list()"
      ]
    },
    {
      "cell_type": "code",
      "execution_count": null,
      "metadata": {
        "trusted": true
      },
      "outputs": [],
      "source": [
        "nullList=[]"
      ]
    },
    {
      "attachments": {},
      "cell_type": "markdown",
      "metadata": {},
      "source": [
        "## リスト内包表記\n",
        "\n",
        "`for`ループを使ってリストを生成する"
      ]
    },
    {
      "cell_type": "code",
      "execution_count": null,
      "metadata": {},
      "outputs": [],
      "source": [
        "odds = [2 * x + 1 for x in range(10)]\n",
        "odds"
      ]
    },
    {
      "attachments": {},
      "cell_type": "markdown",
      "metadata": {},
      "source": [
        "`for`ループに条件を追加してリストを生成する"
      ]
    },
    {
      "cell_type": "code",
      "execution_count": null,
      "metadata": {},
      "outputs": [],
      "source": [
        "multipleThree = [3*x for x in range(10)]\n",
        "notMultipleThree = [x for x in range(30) if x%3 != 0]\n",
        "print(multipleThree)\n",
        "print(notMultipleThree)"
      ]
    },
    {
      "cell_type": "code",
      "execution_count": null,
      "metadata": {
        "trusted": true
      },
      "outputs": [],
      "source": [
        "negatives = [x for x in numbers if x < 0]\n",
        "positives = list(x for x in numbers if x > 0)\n",
        "doubles = [2 * x for x in numbers]\n",
        "print(negatives)\n",
        "print(positives)\n",
        "print(doubles)\n"
      ]
    },
    {
      "attachments": {},
      "cell_type": "markdown",
      "metadata": {},
      "source": [
        "## 課題\n",
        "`numbers`の各要素を二乗した要素からるリスト`squares`をリスト内包表記で生成しなさい。"
      ]
    },
    {
      "cell_type": "code",
      "execution_count": null,
      "metadata": {},
      "outputs": [],
      "source": []
    },
    {
      "cell_type": "markdown",
      "metadata": {},
      "source": [
        "## リストの要素を参照"
      ]
    },
    {
      "cell_type": "markdown",
      "metadata": {},
      "source": [
        "- リストの要素は、インデックス(先頭を0とした番号)を用いて参照することができる。\n",
        "- 最後尾を-1として、前に向かって参照することもできる。"
      ]
    },
    {
      "cell_type": "code",
      "execution_count": null,
      "metadata": {
        "trusted": true
      },
      "outputs": [],
      "source": [
        "print(chars[0])\n",
        "print(chars[1])\n",
        "print(chars[-1])\n",
        "print(chars[-2])"
      ]
    },
    {
      "cell_type": "markdown",
      "metadata": {},
      "source": [
        "リストの要素の値を変更する"
      ]
    },
    {
      "cell_type": "code",
      "execution_count": null,
      "metadata": {
        "trusted": true
      },
      "outputs": [],
      "source": [
        "numbers[0] = 15\n",
        "numbers"
      ]
    },
    {
      "attachments": {},
      "cell_type": "markdown",
      "metadata": {},
      "source": [
        "## リストを順に辿る\n",
        "\n",
        "リストのように、要素を順に辿ることができるデータ構造を、_iterable_ という。\n",
        "\n",
        "iterableなデータ構造は、`for`を使って、辿ることができる。\n",
        "要素を直接取り出すことも、インデクスを用いて取り出すこともできる。\n",
        "\n",
        "iterate: _to do sth over again or repeatedly._"
      ]
    },
    {
      "cell_type": "code",
      "execution_count": null,
      "metadata": {
        "trusted": true
      },
      "outputs": [],
      "source": [
        "print(numbers)\n",
        "for x in numbers:#リスト中の値を順に参照\n",
        "    print(f'x={x}')"
      ]
    },
    {
      "cell_type": "code",
      "execution_count": null,
      "metadata": {
        "trusted": true
      },
      "outputs": [],
      "source": [
        "#リストの要素をsへ順に加算\n",
        "s = 0\n",
        "for x in numbers:\n",
        "    s += x\n",
        "    print(f'sに{x}を加算, s={s}')\n",
        "print(s)"
      ]
    },
    {
      "cell_type": "code",
      "execution_count": null,
      "metadata": {},
      "outputs": [],
      "source": [
        "#numbersの各要素の絶対値を表示\n",
        "for x in numbers:\n",
        "    print(abs(x))"
      ]
    },
    {
      "cell_type": "code",
      "execution_count": null,
      "metadata": {
        "scrolled": true,
        "trusted": true
      },
      "outputs": [],
      "source": [
        "sqrs = list(numbers)\n",
        "#リストのインデクスを用いて値を参照\n",
        "for i in range(len(sqrs)):\n",
        "    x = sqrs[i]\n",
        "    sqrs[i] = x * x\n",
        "print(sqrs)"
      ]
    },
    {
      "attachments": {},
      "cell_type": "markdown",
      "metadata": {},
      "source": [
        "`enumerate()`関数を用いると、リストのインデクスと対応する要素を組（タプルという、次週説明）で取り出せる。"
      ]
    },
    {
      "cell_type": "code",
      "execution_count": null,
      "metadata": {},
      "outputs": [],
      "source": [
        "for i, v in enumerate(numbers):\n",
        "    print(f'{i}->{v}')"
      ]
    },
    {
      "cell_type": "markdown",
      "metadata": {},
      "source": [
        "# 課題"
      ]
    },
    {
      "attachments": {},
      "cell_type": "markdown",
      "metadata": {},
      "source": [
        "リストに正と負の整数が保存されているとする。その絶対値の和を計算しなさい。\n",
        "絶対値は標準のモジュールにある`abs()`を使う。"
      ]
    },
    {
      "cell_type": "code",
      "execution_count": null,
      "metadata": {
        "trusted": true
      },
      "outputs": [],
      "source": []
    }
  ],
  "metadata": {
    "kernelspec": {
      "display_name": "myenv",
      "language": "python",
      "name": "python3"
    },
    "language_info": {
      "codemirror_mode": {
        "name": "ipython",
        "version": 3
      },
      "file_extension": ".py",
      "mimetype": "text/x-python",
      "name": "python",
      "nbconvert_exporter": "python",
      "pygments_lexer": "ipython3",
      "version": "3.12.1"
    },
    "vscode": {
      "interpreter": {
        "hash": "b3b804b6b7a7d9b475cf928428dd1242016eacc24c47853aaf0f8d1d2228aa39"
      }
    }
  },
  "nbformat": 4,
  "nbformat_minor": 2
}
