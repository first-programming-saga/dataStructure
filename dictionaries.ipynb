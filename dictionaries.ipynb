{
  "cells": [
    {
      "metadata": {
        "collapsed": true
      },
      "cell_type": "markdown",
      "source": "辞書は、キーと値の組を保持する"
    },
    {
      "metadata": {
        "trusted": true
      },
      "cell_type": "code",
      "source": "from random import randint",
      "execution_count": 6,
      "outputs": []
    },
    {
      "metadata": {},
      "cell_type": "markdown",
      "source": "空港コードと名称の組を保持する例。タプルを利用した場合とは異なり、要素を変更できる。"
    },
    {
      "metadata": {
        "trusted": true,
        "scrolled": true
      },
      "cell_type": "code",
      "source": "airports = {'HSG':'佐賀有明空港','FUK':'福岡空港','CTS':'新千歳空港'}\n\nairports['HND']='羽田空港'#新しい組の追加\nairports['HSG']='九州佐賀国際空港'\n\nfor key in airports:\n    print(f'{airports[key]}のコードは{key}')",
      "execution_count": 7,
      "outputs": [
        {
          "output_type": "stream",
          "text": "九州佐賀国際空港のコードはHSG\n福岡空港のコードはFUK\n新千歳空港のコードはCTS\n羽田空港のコードはHND\n",
          "name": "stdout"
        }
      ]
    },
    {
      "metadata": {},
      "cell_type": "markdown",
      "source": "辞書のキーと値をそれぞれ取り出すことができる。"
    },
    {
      "metadata": {
        "trusted": true,
        "scrolled": false
      },
      "cell_type": "code",
      "source": "print(airports.keys())\nprint(airports.values())",
      "execution_count": 8,
      "outputs": [
        {
          "output_type": "stream",
          "text": "dict_keys(['HSG', 'FUK', 'CTS', 'HND'])\ndict_values(['九州佐賀国際空港', '福岡空港', '新千歳空港', '羽田空港'])\n",
          "name": "stdout"
        }
      ]
    },
    {
      "metadata": {},
      "cell_type": "markdown",
      "source": "リストdataのなかに、アルファベットをランダムに生成する。\n\nその後、各アルファベットの出現回数を計測する。出現回数は辞書fに、アルファベットと回数の組を登録する。"
    },
    {
      "metadata": {
        "trusted": true,
        "scrolled": true
      },
      "cell_type": "code",
      "source": "data = []\nfor i in range(100):\n    x = randint(0,5)\n    data.append(chr(65+x))\nprint(data)\n\n#アルファベットとその出現回数を保持する辞書\nf ={}\nfor c in data:\n    if c in f.keys():#既に登録済みのアルファベットの場合\n        f[c] +=1\n    else:#初めて現れたアルファベットの場合\n        f[c] = 1\n\nprint(f)\n#アルファベット順に結果を出力\nfor k,v in sorted(f.items()):\n    print(f\"f['{k}']={v}\")\n#fは変更されていない\nprint(f)\n#出現回数順に結果を出力(大きい順)\nfor k,v in sorted(f.items(),key=lambda x:x[1],reverse=True):\n    print(f\"f['{k}']={v}\")\n",
      "execution_count": 9,
      "outputs": [
        {
          "output_type": "stream",
          "text": "['B', 'D', 'D', 'B', 'F', 'E', 'D', 'D', 'C', 'C', 'A', 'F', 'F', 'D', 'A', 'B', 'A', 'A', 'D', 'E', 'B', 'A', 'F', 'E', 'F', 'D', 'D', 'C', 'F', 'A', 'A', 'E', 'D', 'C', 'D', 'C', 'B', 'A', 'B', 'A', 'C', 'A', 'D', 'B', 'D', 'F', 'C', 'E', 'D', 'E', 'E', 'D', 'D', 'F', 'F', 'B', 'D', 'E', 'E', 'F', 'E', 'A', 'D', 'A', 'B', 'D', 'F', 'A', 'D', 'B', 'A', 'A', 'A', 'F', 'A', 'E', 'D', 'A', 'F', 'B', 'D', 'C', 'E', 'E', 'C', 'A', 'B', 'C', 'A', 'B', 'A', 'A', 'B', 'C', 'B', 'C', 'A', 'D', 'B', 'E']\n{'B': 16, 'D': 22, 'F': 13, 'E': 14, 'C': 12, 'A': 23}\nf['A']=23\nf['B']=16\nf['C']=12\nf['D']=22\nf['E']=14\nf['F']=13\n{'B': 16, 'D': 22, 'F': 13, 'E': 14, 'C': 12, 'A': 23}\nf['A']=23\nf['D']=22\nf['B']=16\nf['E']=14\nf['F']=13\nf['C']=12\n",
          "name": "stdout"
        }
      ]
    },
    {
      "metadata": {
        "trusted": true
      },
      "cell_type": "code",
      "source": "",
      "execution_count": null,
      "outputs": []
    }
  ],
  "metadata": {
    "kernelspec": {
      "name": "python36",
      "display_name": "Python 3.6",
      "language": "python"
    },
    "language_info": {
      "mimetype": "text/x-python",
      "nbconvert_exporter": "python",
      "name": "python",
      "pygments_lexer": "ipython3",
      "version": "3.6.6",
      "file_extension": ".py",
      "codemirror_mode": {
        "version": 3,
        "name": "ipython"
      }
    }
  },
  "nbformat": 4,
  "nbformat_minor": 2
}