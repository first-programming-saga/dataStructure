{
  "cells": [
    {
      "attachments": {},
      "cell_type": "markdown",
      "metadata": {
        "collapsed": true
      },
      "source": [
        "# 辞書\n",
        "- 辞書は、鍵(キー)と値の組を保持する。\n",
        "- リストは、要素を番号と対応つけて保存するが、辞書は鍵となるオブジェクト（文字列その他）と対応つけて要素を保持できる。\n",
        "- リストよりも柔軟なデータ管理が可能となる。\n",
        "- `{}`を使うことに注意。"
      ]
    },
    {
      "attachments": {},
      "cell_type": "markdown",
      "metadata": {},
      "source": [
        "## 空港コードと名称の組を保持する例\n",
        "- 空港コードがキーに、空港名が値となっている。\n",
        "- リストと同様に要素を変更できる。"
      ]
    },
    {
      "cell_type": "code",
      "execution_count": null,
      "metadata": {
        "scrolled": true,
        "trusted": true
      },
      "outputs": [],
      "source": [
        "airports = {'HSG' : '佐賀有明空港',\n",
        "            'FUK' : '福岡空港',\n",
        "            'CTS' : '新千歳空港'\n",
        "           }\n",
        "\n",
        "airports['HND'] = '羽田空港' #新しい組の追加\n",
        "airports['HSG'] = '九州佐賀国際空港' #キーHSGに対応した値の変更\n",
        "\n",
        "for key in airports:\n",
        "    print(f'{airports[key]}のコードは{key}')"
      ]
    },
    {
      "cell_type": "markdown",
      "metadata": {},
      "source": [
        "辞書のキーと値をそれぞれ取り出すことができる。"
      ]
    },
    {
      "cell_type": "code",
      "execution_count": null,
      "metadata": {
        "scrolled": true,
        "trusted": true
      },
      "outputs": [],
      "source": [
        "print(airports.keys())\n",
        "print(airports.values())\n",
        "for airportName in airports.values():\n",
        "    print(airportName)"
      ]
    },
    {
      "cell_type": "markdown",
      "metadata": {},
      "source": [
        "キーと値の組をタプルとして取り出すこともできる"
      ]
    },
    {
      "cell_type": "code",
      "execution_count": null,
      "metadata": {
        "trusted": true
      },
      "outputs": [],
      "source": [
        "print(airports.items())\n",
        "for k,name in airports.items():\n",
        "    print(f'{name} のコードは {k}')"
      ]
    },
    {
      "cell_type": "markdown",
      "metadata": {},
      "source": [
        "## 辞書利用の例"
      ]
    },
    {
      "attachments": {},
      "cell_type": "markdown",
      "metadata": {},
      "source": [
        "各空港を何回利用（搭乗）したかを数える例。\n",
        "- `flights`リストには、利用した空港コードが入っている。\n",
        "- `dict()`で空の辞書型変数`flightsFreq`を作る。\n",
        "- `flightsFreq`では、キーが空港コード、空港コードが`flights`内に現れる回数が値。"
      ]
    },
    {
      "cell_type": "code",
      "execution_count": null,
      "metadata": {
        "trusted": true
      },
      "outputs": [],
      "source": [
        "#利用した空港のリスト\n",
        "flights =['HSG', 'HND', 'FUK', 'CTS', 'HND', 'HSG',\n",
        "        'FUK', 'NGO', 'FUK', 'FUK', 'CTS', 'FUK',\n",
        "        'HSG', 'HND', 'FUK', 'KMQ', 'FUK', 'CTS']\n",
        "flightsFreq = dict() # 利用した回数のdictionary\n",
        "for f in flights: #flightsの各要素\n",
        "    if f in flightsFreq.keys(): #空港名が既に登録されている場合\n",
        "        flightsFreq[f] += 1\n",
        "    else:\n",
        "        flightsFreq[f] = 1\n",
        "print(flightsFreq)"
      ]
    },
    {
      "attachments": {},
      "cell_type": "markdown",
      "metadata": {},
      "source": [
        "## 文字の出現回数を数える例\n",
        "- リスト`data`のなかに、アルファベットをランダムに生成する。\n",
        "- 辞書型変数`counter`を生成する。キーはアルファベット、値は出現回数。出現回数として0を初期値としている\n",
        "- その後、各アルファベットの出現回数を計測する。出現回数は辞書`counter`に、アルファベットと回数の組を登録する。"
      ]
    },
    {
      "cell_type": "code",
      "execution_count": null,
      "metadata": {
        "scrolled": true,
        "trusted": true
      },
      "outputs": [],
      "source": [
        "from random import randint\n",
        "#アルファベットをランダムに生成\n",
        "data :list[str] = []\n",
        "for i in range(100):\n",
        "    x = randint(0,25)\n",
        "    data.append(chr(65+x))\n",
        "print(data)\n",
        "\n",
        "#アルファベットとその出現回数を保持する辞書\n",
        "#各アルファベットの出現回数の初期値を0として生成\n",
        "counter :dict[str,int] ={chr(65+k):0 for k in range(26)}\n",
        "for c in data:\n",
        "    counter[c] +=1\n",
        "\n",
        "print(counter)\n",
        "#アルファベット順に結果を出力\n",
        "for k,v in sorted(counter.items()):\n",
        "    print(f\"counter['{k}']={v}\")\n",
        "#counterは変更されていない\n",
        "print(counter)\n",
        "#出現回数順に結果を出力(大きい順)\n",
        "for k,v in sorted(counter.items(), key = lambda x:x[1], reverse=True):\n",
        "    print(f\"counter['{k}']={v}\")\n"
      ]
    }
  ],
  "metadata": {
    "kernelspec": {
      "display_name": "myenv",
      "language": "python",
      "name": "python3"
    },
    "language_info": {
      "codemirror_mode": {
        "name": "ipython",
        "version": 3
      },
      "file_extension": ".py",
      "mimetype": "text/x-python",
      "name": "python",
      "nbconvert_exporter": "python",
      "pygments_lexer": "ipython3",
      "version": "3.11.6"
    },
    "vscode": {
      "interpreter": {
        "hash": "b3b804b6b7a7d9b475cf928428dd1242016eacc24c47853aaf0f8d1d2228aa39"
      }
    }
  },
  "nbformat": 4,
  "nbformat_minor": 2
}
