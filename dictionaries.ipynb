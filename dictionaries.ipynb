{
  "cells": [
    {
      "attachments": {},
      "cell_type": "markdown",
      "metadata": {
        "collapsed": true
      },
      "source": [
        "# 辞書\n",
        "- 辞書は、キーと値の組を保持する。\n",
        "- 配列は、要素を番号と対応つけて保存するが、辞書は鍵となるオブジェクト（文字列その他）と対応つけて要素を保持できる。\n",
        "- 配列よりも柔軟なデータ管理が可能となる。"
      ]
    },
    {
      "cell_type": "markdown",
      "metadata": {},
      "source": [
        "空港コードと名称の組を保持する例。要素を変更できる。"
      ]
    },
    {
      "cell_type": "code",
      "execution_count": null,
      "metadata": {
        "scrolled": true,
        "trusted": true
      },
      "outputs": [],
      "source": [
        "airports = {'HSG' : '佐賀有明空港',\n",
        "            'FUK' : '福岡空港',\n",
        "            'CTS' : '新千歳空港'\n",
        "           }\n",
        "\n",
        "airports['HND'] = '羽田空港' #新しい組の追加\n",
        "airports['HSG'] = '九州佐賀国際空港' #キーHSGに対応した値の変更\n",
        "\n",
        "for key in airports:\n",
        "    print(f'{airports[key]}のコードは{key}')"
      ]
    },
    {
      "cell_type": "markdown",
      "metadata": {},
      "source": [
        "辞書のキーと値をそれぞれ取り出すことができる。"
      ]
    },
    {
      "cell_type": "code",
      "execution_count": null,
      "metadata": {
        "scrolled": true,
        "trusted": true
      },
      "outputs": [],
      "source": [
        "print(airports.keys())\n",
        "print(airports.values())\n",
        "for airportName in airports.values():\n",
        "    print(airportName)"
      ]
    },
    {
      "cell_type": "markdown",
      "metadata": {},
      "source": [
        "キーと値の組をタプルとして取り出すこともできる"
      ]
    },
    {
      "cell_type": "code",
      "execution_count": null,
      "metadata": {
        "trusted": true
      },
      "outputs": [],
      "source": [
        "for k,name in airports.items():\n",
        "    print(f'{name} のコードは {k}')"
      ]
    },
    {
      "cell_type": "markdown",
      "metadata": {},
      "source": [
        "## 辞書利用の例"
      ]
    },
    {
      "cell_type": "markdown",
      "metadata": {},
      "source": [
        "各空港を何回利用（搭乗）したか？"
      ]
    },
    {
      "cell_type": "code",
      "execution_count": null,
      "metadata": {
        "trusted": true
      },
      "outputs": [],
      "source": [
        "#利用した空港のリスト\n",
        "flights =['HSG', 'HND', 'FUK', 'CTS', 'HND', 'HSG',\n",
        "        'FUK', 'NGO', 'FUK', 'FUK', 'CTS', 'FUK',\n",
        "        'HSG', 'HND', 'FUK', 'KMQ', 'FUK', 'CTS']\n",
        "flightsFreq = dict() # 利用した回数のdictionary\n",
        "for f in flights: #flightsの各要素\n",
        "    if f in flightsFreq.keys(): #空港名が既に登録されている場合\n",
        "        flightsFreq[f] += 1\n",
        "    else:\n",
        "        flightsFreq[f] = 1\n",
        "print(flightsFreq)"
      ]
    },
    {
      "cell_type": "markdown",
      "metadata": {},
      "source": [
        "リストdataのなかに、アルファベットをランダムに生成する。\n",
        "\n",
        "その後、各アルファベットの出現回数を計測する。出現回数は辞書counterに、アルファベットと回数の組を登録する。"
      ]
    },
    {
      "cell_type": "code",
      "execution_count": null,
      "metadata": {
        "scrolled": true,
        "trusted": true
      },
      "outputs": [],
      "source": [
        "from random import randint\n",
        "#アルファベットをランダムに生成\n",
        "data :list[str] = []\n",
        "for i in range(100):\n",
        "    x = randint(0,25)\n",
        "    data.append(chr(65+x))\n",
        "print(data)\n",
        "\n",
        "#アルファベットとその出現回数を保持する辞書\n",
        "counter :dict[str,int] ={chr(65+k):0 for k in range(26)}\n",
        "for c in data:\n",
        "    counter[c] +=1\n",
        "\n",
        "print(counter)\n",
        "#アルファベット順に結果を出力\n",
        "for k,v in sorted(counter.items()):\n",
        "    print(f\"counter['{k}']={v}\")\n",
        "#counterは変更されていない\n",
        "print(counter)\n",
        "#出現回数順に結果を出力(大きい順)\n",
        "for k,v in sorted(counter.items(), key = lambda x:x[1], reverse=True):\n",
        "    print(f\"counter['{k}']={v}\")\n"
      ]
    }
  ],
  "metadata": {
    "kernelspec": {
      "display_name": "myenv",
      "language": "python",
      "name": "python3"
    },
    "language_info": {
      "codemirror_mode": {
        "name": "ipython",
        "version": 3
      },
      "file_extension": ".py",
      "mimetype": "text/x-python",
      "name": "python",
      "nbconvert_exporter": "python",
      "pygments_lexer": "ipython3",
      "version": "3.10.8 | packaged by conda-forge | (main, Nov 22 2022, 08:16:33) [MSC v.1929 64 bit (AMD64)]"
    },
    "vscode": {
      "interpreter": {
        "hash": "b3b804b6b7a7d9b475cf928428dd1242016eacc24c47853aaf0f8d1d2228aa39"
      }
    }
  },
  "nbformat": 4,
  "nbformat_minor": 2
}
