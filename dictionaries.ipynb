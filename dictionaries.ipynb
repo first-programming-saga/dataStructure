{
  "cells": [
    {
      "metadata": {
        "collapsed": true
      },
      "cell_type": "markdown",
      "source": [
        "# 辞書\n",
        "\n",
        "辞書は、キーと値の組を保持する。\n",
        "配列は、要素を番号と対応つけて保存するが、辞書は鍵となるオブジェクト（文字列その他）と対応つけて要素を保持できる。"
      ]
    },
    {
      "metadata": {},
      "cell_type": "markdown",
      "source": [
        "空港コードと名称の組を保持する例。要素を変更できる。"
      ]
    },
    {
      "metadata": {
        "trusted": true,
        "scrolled": true
      },
      "cell_type": "code",
      "source": [
        "airports = {'HSG' : '佐賀有明空港',\n",
        "            'FUK' : '福岡空港',\n",
        "            'CTS' : '新千歳空港'\n",
        "           }\n",
        "\n",
        "airports['HND'] = '羽田空港' #新しい組の追加\n",
        "airports['HSG'] = '九州佐賀国際空港' #キーHSGに対応した値の変更\n",
        "\n",
        "for key in airports:\n",
        "    print(f'{airports[key]}のコードは{key}')"
      ],
      "execution_count": null,
      "outputs": []
    },
    {
      "metadata": {},
      "cell_type": "markdown",
      "source": [
        "辞書のキーと値をそれぞれ取り出すことができる。"
      ]
    },
    {
      "metadata": {
        "trusted": true,
        "scrolled": true
      },
      "cell_type": "code",
      "source": [
        "print(airports.keys())\n",
        "print(airports.values())\n",
        "for airportname in airports.values():\n",
        "    print(airportname)"
      ],
      "execution_count": null,
      "outputs": []
    },
    {
      "metadata": {},
      "cell_type": "markdown",
      "source": [
        "キーと値の組をタプルとして取り出すこともできる"
      ]
    },
    {
      "metadata": {
        "trusted": true
      },
      "cell_type": "code",
      "source": [
        "print(airports.items())"
      ],
      "execution_count": null,
      "outputs": []
    },
    {
      "metadata": {},
      "cell_type": "markdown",
      "source": [
        "## 辞書利用の例"
      ]
    },
    {
      "metadata": {},
      "cell_type": "markdown",
      "source": [
        "各空港を何回利用（搭乗）したか？"
      ]
    },
    {
      "metadata": {
        "trusted": true
      },
      "cell_type": "code",
      "source": [
        "#利用した空港のリスト\n",
        "flights=['HSG', 'HND', 'FUK', 'CTS', 'HND', 'HSG', 'FUK', 'NGO', 'FUK',\n",
        "         'FUK', 'CTS', 'FUK', 'HSG', 'HND', 'FUK', 'KMQ', 'FUK', 'CTS']\n",
        "flightsFreq={} # 利用した回数のdictionary\n",
        "for f in flights: #flightsの各要素\n",
        "    if f in flightsFreq.keys(): #空港名が既に登録されている場合\n",
        "        flightsFreq[f] += 1\n",
        "    else:\n",
        "        flightsFreq[f] = 1\n",
        "print(flightsFreq)"
      ],
      "execution_count": null,
      "outputs": []
    },
    {
      "metadata": {},
      "cell_type": "markdown",
      "source": [
        "リストdataのなかに、アルファベットをランダムに生成する。\n",
        "\n",
        "その後、各アルファベットの出現回数を計測する。出現回数は辞書counterに、アルファベットと回数の組を登録する。"
      ]
    },
    {
      "metadata": {
        "trusted": true,
        "scrolled": true
      },
      "cell_type": "code",
      "source": [
        "from random import randint\n",
        "#アルファベットをランダムに生成\n",
        "data = []\n",
        "for i in range(100):\n",
        "    x = randint(0,26)\n",
        "    data.append(chr(65+x))\n",
        "print(data)\n",
        "\n",
        "#アルファベットとその出現回数を保持する辞書\n",
        "counter ={}\n",
        "for c in data:\n",
        "    if c in counter.keys():#既に登録済みのアルファベットの場合\n",
        "        counter[c] +=1\n",
        "    else:#初めて現れたアルファベットの場合\n",
        "        counter[c] = 1\n",
        "\n",
        "print(counter)\n",
        "#アルファベット順に結果を出力\n",
        "for k,v in sorted(counter.items()):\n",
        "    print(f\"counter['{k}']={v}\")\n",
        "#counterは変更されていない\n",
        "print(counter)\n",
        "#出現回数順に結果を出力(大きい順)\n",
        "for k,v in sorted(counter.items(), key = lambda x:x[1], reverse=True):\n",
        "    print(f\"counter['{k}']={v}\")\n"
      ],
      "execution_count": null,
      "outputs": []
    },
    {
      "metadata": {
        "trusted": true
      },
      "cell_type": "code",
      "source": [],
      "execution_count": null,
      "outputs": []
    }
  ],
  "metadata": {
    "kernelspec": {
      "name": "python36",
      "display_name": "Python 3.6",
      "language": "python"
    },
    "language_info": {
      "mimetype": "text/x-python",
      "nbconvert_exporter": "python",
      "name": "python",
      "pygments_lexer": "ipython3",
      "version": "3.6.6",
      "file_extension": ".py",
      "codemirror_mode": {
        "version": 3,
        "name": "ipython"
      }
    }
  },
  "nbformat": 4,
  "nbformat_minor": 2
}