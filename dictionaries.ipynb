{
  "cells": [
    {
      "metadata": {
        "collapsed": true
      },
      "cell_type": "markdown",
      "source": "# 辞書\n\n辞書は、キーと値の組を保持する"
    },
    {
      "metadata": {},
      "cell_type": "markdown",
      "source": "空港コードと名称の組を保持する例。要素を変更できる。"
    },
    {
      "metadata": {
        "trusted": true,
        "scrolled": true
      },
      "cell_type": "code",
      "source": "airports = {'HSG':'佐賀有明空港','FUK':'福岡空港','CTS':'新千歳空港'}\n\nairports['HND']='羽田空港'#新しい組の追加\nairports['HSG']='九州佐賀国際空港'#キーHSGに対応した値の変更\n\nfor key in airports:\n    print(f'{airports[key]}のコードは{key}')",
      "execution_count": 8,
      "outputs": [
        {
          "output_type": "stream",
          "text": "九州佐賀国際空港のコードはHSG\n福岡空港のコードはFUK\n新千歳空港のコードはCTS\n羽田空港のコードはHND\n",
          "name": "stdout"
        }
      ]
    },
    {
      "metadata": {},
      "cell_type": "markdown",
      "source": "辞書のキーと値をそれぞれ取り出すことができる。"
    },
    {
      "metadata": {
        "trusted": true,
        "scrolled": true
      },
      "cell_type": "code",
      "source": "print(airports.keys())\nprint(airports.values())",
      "execution_count": 9,
      "outputs": [
        {
          "output_type": "stream",
          "text": "dict_keys(['HSG', 'FUK', 'CTS', 'HND'])\ndict_values(['九州佐賀国際空港', '福岡空港', '新千歳空港', '羽田空港'])\n",
          "name": "stdout"
        }
      ]
    },
    {
      "metadata": {},
      "cell_type": "markdown",
      "source": "キーと値をタプルとして取り出すこともできる"
    },
    {
      "metadata": {
        "trusted": true
      },
      "cell_type": "code",
      "source": "print(airports.items())",
      "execution_count": 10,
      "outputs": [
        {
          "output_type": "stream",
          "text": "dict_items([('HSG', '九州佐賀国際空港'), ('FUK', '福岡空港'), ('CTS', '新千歳空港'), ('HND', '羽田空港')])\n",
          "name": "stdout"
        }
      ]
    },
    {
      "metadata": {},
      "cell_type": "markdown",
      "source": "## 辞書利用の例\n\nリストdataのなかに、アルファベットをランダムに生成する。\n\nその後、各アルファベットの出現回数を計測する。出現回数は辞書counterに、アルファベットと回数の組を登録する。"
    },
    {
      "metadata": {
        "trusted": true,
        "scrolled": true
      },
      "cell_type": "code",
      "source": "from random import randint\n#アルファベットをランダムに生成\ndata = []\nfor i in range(100):\n    x = randint(0,26)\n    data.append(chr(65+x))\nprint(data)\n\n#アルファベットとその出現回数を保持する辞書\ncounter ={}\nfor c in data:\n    if c in counter.keys():#既に登録済みのアルファベットの場合\n        counter[c] +=1\n    else:#初めて現れたアルファベットの場合\n        counter[c] = 1\n\nprint(counter)\n#アルファベット順に結果を出力\nfor k,v in sorted(counter.items()):\n    print(f\"counter['{k}']={v}\")\n#counterは変更されていない\nprint(counter)\n#出現回数順に結果を出力(大きい順)\nfor k,v in sorted(counter.items(),key=lambda x:x[1],reverse=True):\n    print(f\"counter['{k}']={v}\")\n",
      "execution_count": 11,
      "outputs": [
        {
          "output_type": "stream",
          "text": "['W', 'Y', 'H', 'B', 'X', 'S', 'C', 'Z', 'Q', 'U', 'S', 'W', 'I', 'H', 'R', 'U', 'W', 'Z', 'Y', 'J', 'D', 'D', 'U', 'F', 'H', 'I', 'P', 'Y', 'A', 'H', 'M', 'Y', 'O', 'N', 'H', 'N', 'Q', 'C', 'J', 'U', 'W', 'M', 'M', 'J', 'U', 'H', 'E', 'N', 'B', 'N', 'O', 'M', 'Y', 'T', 'O', 'U', 'L', 'R', 'Q', 'I', 'R', 'I', 'V', 'I', 'Z', 'B', 'E', 'R', 'Y', 'D', 'A', 'V', 'F', 'F', 'S', 'R', 'G', 'V', 'J', 'R', 'Y', 'H', 'Y', 'T', 'C', 'H', 'J', 'S', 'J', 'N', 'C', 'A', 'Y', 'U', 'F', 'K', 'I', 'Z', 'D', 'O']\n{'W': 4, 'Y': 9, 'H': 8, 'B': 3, 'X': 1, 'S': 4, 'C': 4, 'Z': 4, 'Q': 3, 'U': 7, 'I': 6, 'R': 6, 'J': 6, 'D': 4, 'F': 4, 'P': 1, 'A': 3, 'M': 4, 'O': 4, 'N': 5, 'E': 2, 'T': 2, 'L': 1, 'V': 3, 'G': 1, 'K': 1}\ncounter['A']=3\ncounter['B']=3\ncounter['C']=4\ncounter['D']=4\ncounter['E']=2\ncounter['F']=4\ncounter['G']=1\ncounter['H']=8\ncounter['I']=6\ncounter['J']=6\ncounter['K']=1\ncounter['L']=1\ncounter['M']=4\ncounter['N']=5\ncounter['O']=4\ncounter['P']=1\ncounter['Q']=3\ncounter['R']=6\ncounter['S']=4\ncounter['T']=2\ncounter['U']=7\ncounter['V']=3\ncounter['W']=4\ncounter['X']=1\ncounter['Y']=9\ncounter['Z']=4\n{'W': 4, 'Y': 9, 'H': 8, 'B': 3, 'X': 1, 'S': 4, 'C': 4, 'Z': 4, 'Q': 3, 'U': 7, 'I': 6, 'R': 6, 'J': 6, 'D': 4, 'F': 4, 'P': 1, 'A': 3, 'M': 4, 'O': 4, 'N': 5, 'E': 2, 'T': 2, 'L': 1, 'V': 3, 'G': 1, 'K': 1}\ncounter['Y']=9\ncounter['H']=8\ncounter['U']=7\ncounter['I']=6\ncounter['R']=6\ncounter['J']=6\ncounter['N']=5\ncounter['W']=4\ncounter['S']=4\ncounter['C']=4\ncounter['Z']=4\ncounter['D']=4\ncounter['F']=4\ncounter['M']=4\ncounter['O']=4\ncounter['B']=3\ncounter['Q']=3\ncounter['A']=3\ncounter['V']=3\ncounter['E']=2\ncounter['T']=2\ncounter['X']=1\ncounter['P']=1\ncounter['L']=1\ncounter['G']=1\ncounter['K']=1\n",
          "name": "stdout"
        }
      ]
    },
    {
      "metadata": {
        "trusted": true
      },
      "cell_type": "code",
      "source": "",
      "execution_count": null,
      "outputs": []
    }
  ],
  "metadata": {
    "kernelspec": {
      "name": "python36",
      "display_name": "Python 3.6",
      "language": "python"
    },
    "language_info": {
      "mimetype": "text/x-python",
      "nbconvert_exporter": "python",
      "name": "python",
      "pygments_lexer": "ipython3",
      "version": "3.6.6",
      "file_extension": ".py",
      "codemirror_mode": {
        "version": 3,
        "name": "ipython"
      }
    }
  },
  "nbformat": 4,
  "nbformat_minor": 2
}