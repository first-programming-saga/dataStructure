{
  "cells": [
    {
      "metadata": {
        "collapsed": true
      },
      "cell_type": "markdown",
      "source": "辞書は、キーと値の組を保持する"
    },
    {
      "metadata": {
        "trusted": true
      },
      "cell_type": "code",
      "source": "from random import randint",
      "execution_count": 4,
      "outputs": []
    },
    {
      "metadata": {},
      "cell_type": "markdown",
      "source": "空港コードと名称の組を保持する例"
    },
    {
      "metadata": {
        "trusted": true,
        "scrolled": true
      },
      "cell_type": "code",
      "source": "airports = {'HSG':'佐賀有明空港','FUK':'福岡空港','CTS':'新千歳空港'}\n\nairports['HND']='羽田空港'#新しい組の追加\n\nfor key in airports:\n    print(f'{airports[key]}のコードは{key}')",
      "execution_count": 5,
      "outputs": [
        {
          "output_type": "stream",
          "text": "佐賀有明空港のコードはHSG\n福岡空港のコードはFUK\n新千歳空港のコードはCTS\n羽田空港のコードはHND\n",
          "name": "stdout"
        }
      ]
    },
    {
      "metadata": {},
      "cell_type": "markdown",
      "source": "辞書のキーと値をそれぞれ取り出すことができる。"
    },
    {
      "metadata": {
        "trusted": true,
        "scrolled": false
      },
      "cell_type": "code",
      "source": "print(airports.keys())\nprint(airports.values())",
      "execution_count": 6,
      "outputs": [
        {
          "output_type": "stream",
          "text": "dict_keys(['HSG', 'FUK', 'CTS', 'HND'])\ndict_values(['佐賀有明空港', '福岡空港', '新千歳空港', '羽田空港'])\n",
          "name": "stdout"
        }
      ]
    },
    {
      "metadata": {},
      "cell_type": "markdown",
      "source": "リストdataのなかに、アルファベットをランダムに生成する。\n\nその後、各アルファベットの出現回数を計測する。出現回数は辞書fに、アルファベットと回数の組を登録する。"
    },
    {
      "metadata": {
        "trusted": true,
        "scrolled": true
      },
      "cell_type": "code",
      "source": "data = []\nfor i in range(100):\n    x = randint(0,5)\n    data.append(chr(65+x))\nprint(data)\n\n#アルファベットとその出現回数を保持する辞書\nf ={}\nfor c in data:\n    if c in f.keys():#既に登録済みのアルファベットの場合\n        n = f[c]\n        f[c] +=1\n    else:#初めて現れたアルファベットの場合\n        f[c] = 1\n\nprint(f)\n#アルファベット順に結果を出力\nfor k,v in sorted(f.items()):\n    print(f\"f['{k}']={v}\")\n#fは変更されていない\nprint(f)\n#出現回数順に結果を出力(大きい順)\nfor k,v in sorted(f.items(),key=lambda x:x[1],reverse=True):\n    print(f\"f['{k}']={v}\")\n",
      "execution_count": 11,
      "outputs": [
        {
          "output_type": "stream",
          "text": "['F', 'A', 'F', 'D', 'D', 'D', 'A', 'C', 'E', 'F', 'C', 'E', 'D', 'F', 'D', 'C', 'E', 'D', 'A', 'A', 'D', 'E', 'D', 'D', 'E', 'B', 'F', 'F', 'F', 'D', 'F', 'B', 'F', 'E', 'F', 'A', 'D', 'E', 'A', 'D', 'D', 'C', 'C', 'C', 'C', 'A', 'E', 'D', 'B', 'D', 'F', 'B', 'F', 'B', 'F', 'E', 'A', 'F', 'D', 'A', 'D', 'E', 'E', 'F', 'F', 'A', 'A', 'D', 'E', 'A', 'F', 'C', 'B', 'A', 'E', 'A', 'C', 'A', 'A', 'B', 'D', 'B', 'F', 'B', 'F', 'A', 'D', 'B', 'B', 'A', 'A', 'B', 'E', 'C', 'D', 'A', 'E', 'F', 'D', 'F']\n{'F': 21, 'A': 20, 'D': 22, 'C': 10, 'E': 15, 'B': 12}\nf['A']=20\nf['B']=12\nf['C']=10\nf['D']=22\nf['E']=15\nf['F']=21\n{'F': 21, 'A': 20, 'D': 22, 'C': 10, 'E': 15, 'B': 12}\nf['D']=22\nf['F']=21\nf['A']=20\nf['E']=15\nf['B']=12\nf['C']=10\n",
          "name": "stdout"
        }
      ]
    },
    {
      "metadata": {
        "trusted": true
      },
      "cell_type": "code",
      "source": "",
      "execution_count": null,
      "outputs": []
    }
  ],
  "metadata": {
    "kernelspec": {
      "name": "python36",
      "display_name": "Python 3.6",
      "language": "python"
    },
    "language_info": {
      "mimetype": "text/x-python",
      "nbconvert_exporter": "python",
      "name": "python",
      "pygments_lexer": "ipython3",
      "version": "3.6.6",
      "file_extension": ".py",
      "codemirror_mode": {
        "version": 3,
        "name": "ipython"
      }
    }
  },
  "nbformat": 4,
  "nbformat_minor": 2
}