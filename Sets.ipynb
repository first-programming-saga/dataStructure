{
  "cells": [
    {
      "metadata": {},
      "cell_type": "markdown",
      "source": "# 集合"
    },
    {
      "metadata": {},
      "cell_type": "markdown",
      "source": "集合は、リストと同様に、オブジェクトを保持する。ただし、同じオブジェクトは一つしか保持できない。\nまた、順序が付かづ、インデクスで指定することができない。"
    },
    {
      "metadata": {},
      "cell_type": "markdown",
      "source": "## 集合の生成\n\nリストと同様に、要素を列挙して集合を生成することができる。入れた順序と表示される順序が異なることに注意する。"
    },
    {
      "metadata": {
        "trusted": true,
        "scrolled": false
      },
      "cell_type": "code",
      "source": "colorSet = {'red','green','blue'}\nprint(colorSet)",
      "execution_count": null,
      "outputs": []
    },
    {
      "metadata": {},
      "cell_type": "markdown",
      "source": "リストから集合を生成することもできる。"
    },
    {
      "metadata": {
        "trusted": true,
        "scrolled": true
      },
      "cell_type": "code",
      "source": "names = ['Kim','Bob','Kate','Joe']\nnameSet=set(names)\nnameSet",
      "execution_count": null,
      "outputs": []
    },
    {
      "metadata": {},
      "cell_type": "markdown",
      "source": "空の集合の生成"
    },
    {
      "metadata": {
        "trusted": true,
        "scrolled": true
      },
      "cell_type": "code",
      "source": "nullSet = {}\nnullSet",
      "execution_count": null,
      "outputs": []
    },
    {
      "metadata": {
        "trusted": true
      },
      "cell_type": "code",
      "source": "nullSet = set()",
      "execution_count": null,
      "outputs": []
    },
    {
      "metadata": {},
      "cell_type": "markdown",
      "source": "## 集合の操作"
    },
    {
      "metadata": {},
      "cell_type": "markdown",
      "source": "Setは、iterableであり、要素をたどることができる。順序は定まらないことに注意が必要である。"
    },
    {
      "metadata": {
        "trusted": true
      },
      "cell_type": "code",
      "source": "for c in colorSet:\n    print(c)",
      "execution_count": null,
      "outputs": []
    },
    {
      "metadata": {},
      "cell_type": "markdown",
      "source": "要素の追加・削除、取り出しができる。\n\n- add(要素) : 要素を追加\n- remove(要素) : 要素を削除\n- pop() : 要素を削除\n - 削除する要素を指定できない\n- clear() : 全ての要素を削除\n"
    },
    {
      "metadata": {
        "trusted": true,
        "scrolled": false
      },
      "cell_type": "code",
      "source": "setB=set()#空の集合を生成\nprint(setB)\nsetB.add('orange')\nsetB.add('yellow')\nsetB.add('blue')\nprint(setB)\nsetB.remove('blue')\nprint(setB)\nc = setB.pop()\nprint(c)\nprint(setB)\n",
      "execution_count": null,
      "outputs": []
    },
    {
      "metadata": {},
      "cell_type": "markdown",
      "source": "## 集合の演算"
    },
    {
      "metadata": {},
      "cell_type": "markdown",
      "source": "集合の演算:集合の和、共通部分\n    \n- 集合の和：union()または|\n- 集合の共通部分：intersection()または&"
    },
    {
      "metadata": {
        "trusted": true,
        "scrolled": true
      },
      "cell_type": "code",
      "source": "set1 = {'red','green','blue'}\nset2 = {'red','yellow','orange'}\nset3 = set1.union(set2)#和集合\nprint(set3)\nset3 = set1 | set2\nprint(set3)\nset4 = set1.intersection(set2)#共通部分\nprint(set4)\nset4 = set1 & set2\nprint(set4)\nset5 = set4 | {'red'}#同じオブジェクトは一度しか入らない\nprint(set5)",
      "execution_count": null,
      "outputs": []
    },
    {
      "metadata": {},
      "cell_type": "markdown",
      "source": "## 集合に関する判定"
    },
    {
      "metadata": {},
      "cell_type": "markdown",
      "source": "集合の比較：\"==\"は要素の要素の比較、\"is\"はオブジェクトとしての同等性を比較"
    },
    {
      "metadata": {
        "trusted": true,
        "scrolled": true
      },
      "cell_type": "code",
      "source": "colors = {'red', 'green', 'yellow', 'blue', 'orange'}\ncolors == set3",
      "execution_count": null,
      "outputs": []
    },
    {
      "metadata": {
        "trusted": true,
        "scrolled": false
      },
      "cell_type": "code",
      "source": "colors is set3",
      "execution_count": null,
      "outputs": []
    },
    {
      "metadata": {},
      "cell_type": "markdown",
      "source": "setには対象の上位集合かを判定する\"issuperset()\"と部分集合かを判定する\"issubset()\"がある"
    },
    {
      "metadata": {
        "trusted": true,
        "scrolled": true
      },
      "cell_type": "code",
      "source": "colors.issuperset(set1)",
      "execution_count": null,
      "outputs": []
    },
    {
      "metadata": {
        "trusted": true,
        "scrolled": true
      },
      "cell_type": "code",
      "source": "set2.issubset(colors)",
      "execution_count": null,
      "outputs": []
    },
    {
      "metadata": {},
      "cell_type": "markdown",
      "source": "## 変更できない集合"
    },
    {
      "metadata": {},
      "cell_type": "markdown",
      "source": "変更できない集合はfrozensetとして生成する。変更しようとするとエラーとなる。\nここでは、変更しようとした際のエラー（例外）を捕まえて、エラーメッセージを表示している。"
    },
    {
      "metadata": {
        "trusted": true,
        "scrolled": true
      },
      "cell_type": "code",
      "source": "setC = frozenset(['apple','orange'])#変更できない集合\ntry:\n    setC.add('banana')#要素を追加しようとすると、エラーとなる\nexcept Exception as e:\n    print(e)",
      "execution_count": null,
      "outputs": []
    },
    {
      "metadata": {},
      "cell_type": "markdown",
      "source": "# 課題"
    },
    {
      "metadata": {},
      "cell_type": "markdown",
      "source": "二つの集合の差$X\\backslash Y=\\lbrace e\\mid e\\in X\\land e\\not\\in Y\\rbrace$は、集合$X$の要素のうち、$Y$に含まれないものの集合である。\npythonでは、演算子\"-\"で行うことができる。\n\nまた、二つの集合の排他的和(XOR)は$X\\ \\text{XOR}\\ Y=(X\\cup Y)\\backslash(X\\cap Y)$は、$X$または$Y$のどちらか一方のみに含まれる要素の集合である。\npythonでは、演算子\"^\"で行うことができる。\n\nset1とset2に対して、集合の差及び排他的和を実際に求めなさい。また、その結果を確認しなさい。"
    },
    {
      "metadata": {
        "trusted": true
      },
      "cell_type": "code",
      "source": "",
      "execution_count": null,
      "outputs": []
    }
  ],
  "metadata": {
    "kernelspec": {
      "name": "python36",
      "display_name": "Python 3.6",
      "language": "python"
    },
    "language_info": {
      "mimetype": "text/x-python",
      "nbconvert_exporter": "python",
      "name": "python",
      "pygments_lexer": "ipython3",
      "version": "3.6.6",
      "file_extension": ".py",
      "codemirror_mode": {
        "version": 3,
        "name": "ipython"
      }
    }
  },
  "nbformat": 4,
  "nbformat_minor": 2
}