{
  "cells": [
    {
      "metadata": {},
      "cell_type": "markdown",
      "source": "# 集合の生成"
    },
    {
      "metadata": {},
      "cell_type": "markdown",
      "source": "集合は、リストと同様に、オブジェクトを保持する。ただし、同じオブジェクトは一つしか保持できない。"
    },
    {
      "metadata": {
        "trusted": true,
        "scrolled": true
      },
      "cell_type": "code",
      "source": "colorSet = {'red','breen','blue'}\nprint(colorSet)",
      "execution_count": 6,
      "outputs": [
        {
          "output_type": "stream",
          "text": "{'blue', 'red', 'breen'}\n",
          "name": "stdout"
        }
      ]
    },
    {
      "metadata": {
        "trusted": true
      },
      "cell_type": "code",
      "source": "names = ['Kim','Bob','Kate','Joe']\nnameSet=set(names)\nnameSet",
      "execution_count": 22,
      "outputs": [
        {
          "output_type": "execute_result",
          "execution_count": 22,
          "data": {
            "text/plain": "{'Bob', 'Joe', 'Kate', 'Kim'}"
          },
          "metadata": {}
        }
      ]
    },
    {
      "metadata": {
        "trusted": true,
        "scrolled": true
      },
      "cell_type": "code",
      "source": "nullSet = {}\nnullSet",
      "execution_count": 23,
      "outputs": [
        {
          "output_type": "execute_result",
          "execution_count": 23,
          "data": {
            "text/plain": "{}"
          },
          "metadata": {}
        }
      ]
    },
    {
      "metadata": {},
      "cell_type": "markdown",
      "source": "# 集合の操作"
    },
    {
      "metadata": {},
      "cell_type": "markdown",
      "source": "Setは、iterableであり、要素を順にたどることができる。"
    },
    {
      "metadata": {
        "trusted": true
      },
      "cell_type": "code",
      "source": "for c in colorSet:\n    print(c)",
      "execution_count": 7,
      "outputs": [
        {
          "output_type": "stream",
          "text": "blue\nred\nbreen\n",
          "name": "stdout"
        }
      ]
    },
    {
      "metadata": {},
      "cell_type": "markdown",
      "source": "要素の追加・削除、取り出しができる。"
    },
    {
      "metadata": {
        "trusted": true,
        "scrolled": false
      },
      "cell_type": "code",
      "source": "setB=set()#空の集合を生成\nprint(setB)\nsetB.add('orange')\nsetB.add('yellow')\nsetB.add('blue')\nprint(setB)\nsetB.remove('blue')\nprint(setB)\nc = setB.pop()\nprint(c)\nprint(setB)\n",
      "execution_count": 8,
      "outputs": [
        {
          "output_type": "stream",
          "text": "set()\n{'blue', 'yellow', 'orange'}\n{'yellow', 'orange'}\nyellow\n{'orange'}\n",
          "name": "stdout"
        }
      ]
    },
    {
      "metadata": {},
      "cell_type": "markdown",
      "source": "# 集合の演算"
    },
    {
      "metadata": {},
      "cell_type": "markdown",
      "source": "集合の演算:集合の和、共通部分"
    },
    {
      "metadata": {
        "trusted": true,
        "scrolled": true
      },
      "cell_type": "code",
      "source": "set1 = {'red','green','blue'}\nset2 = {'red','yellow','orange'}\nset3 = set1.union(set2)#和集合\nprint(set3)\nset3 = set1 | set2\nprint(set3)\nset4 = set1.intersection(set2)#共通部分\nprint(set4)\nset4 = set1 & set2\nprint(set4)\nset5 = set4 | {'red'}#同じオブジェクトは一度しか入らない\nprint(set5)",
      "execution_count": 9,
      "outputs": [
        {
          "output_type": "stream",
          "text": "{'red', 'green', 'yellow', 'blue', 'orange'}\n{'red', 'green', 'yellow', 'blue', 'orange'}\n{'red'}\n{'red'}\n{'red'}\n",
          "name": "stdout"
        }
      ]
    },
    {
      "metadata": {},
      "cell_type": "markdown",
      "source": "# 集合に関する判定"
    },
    {
      "metadata": {},
      "cell_type": "markdown",
      "source": "集合の比較：\"==\"は要素の要素の比較、\"is\"はオブジェクトとしての同等性を比較"
    },
    {
      "metadata": {
        "trusted": true,
        "scrolled": true
      },
      "cell_type": "code",
      "source": "colors = {'red', 'green', 'yellow', 'blue', 'orange'}\ncolors == set3",
      "execution_count": 14,
      "outputs": [
        {
          "output_type": "execute_result",
          "execution_count": 14,
          "data": {
            "text/plain": "True"
          },
          "metadata": {}
        }
      ]
    },
    {
      "metadata": {
        "trusted": true,
        "scrolled": false
      },
      "cell_type": "code",
      "source": "colors is set3",
      "execution_count": 15,
      "outputs": [
        {
          "output_type": "execute_result",
          "execution_count": 15,
          "data": {
            "text/plain": "False"
          },
          "metadata": {}
        }
      ]
    },
    {
      "metadata": {},
      "cell_type": "markdown",
      "source": "setには対象の上位集合かを判定する\"issuperset()\"とううん集合かを判定する\"issubset()\"がある"
    },
    {
      "metadata": {
        "trusted": true,
        "scrolled": true
      },
      "cell_type": "code",
      "source": "colors.issuperset(set1)",
      "execution_count": 18,
      "outputs": [
        {
          "output_type": "execute_result",
          "execution_count": 18,
          "data": {
            "text/plain": "True"
          },
          "metadata": {}
        }
      ]
    },
    {
      "metadata": {
        "trusted": true,
        "scrolled": true
      },
      "cell_type": "code",
      "source": "set2.issubset(colors)",
      "execution_count": 19,
      "outputs": [
        {
          "output_type": "execute_result",
          "execution_count": 19,
          "data": {
            "text/plain": "True"
          },
          "metadata": {}
        }
      ]
    },
    {
      "metadata": {},
      "cell_type": "markdown",
      "source": "# 変更できない集合"
    },
    {
      "metadata": {},
      "cell_type": "markdown",
      "source": "変更できない集合はfrozensetとして生成する。変更しようとするとエラーとなる"
    },
    {
      "metadata": {
        "trusted": true,
        "scrolled": true
      },
      "cell_type": "code",
      "source": "setC = frozenset(['apple','orange'])#変更できない集合\ntry:\n    setC.add('banana')#要素を追加しようとすると、エラーとなる\nexcept Exception as e:\n    print(e)",
      "execution_count": 11,
      "outputs": [
        {
          "output_type": "stream",
          "text": "'frozenset' object has no attribute 'add'\n",
          "name": "stdout"
        }
      ]
    },
    {
      "metadata": {},
      "cell_type": "markdown",
      "source": "# 課題"
    },
    {
      "metadata": {},
      "cell_type": "markdown",
      "source": "二つの集合の差$X\\backslash Y=\\lbrace e\\mid e\\in X\\land e\\not\\in Y\\rbrace$は、演算子\"-\"で行うことができる。\nまた、二つの集合の排他的和(XOR)は$X\\ \\text{XOR}\\ Y=(X\\cup Y)\\backslash(X\\cap Y)$は、演算子\"^\"で行うことができる。\n\nset1とset2に対して、集合の差及び排他的和を実際に求めなさい。"
    },
    {
      "metadata": {
        "trusted": true
      },
      "cell_type": "code",
      "source": "",
      "execution_count": null,
      "outputs": []
    }
  ],
  "metadata": {
    "kernelspec": {
      "name": "python36",
      "display_name": "Python 3.6",
      "language": "python"
    },
    "language_info": {
      "mimetype": "text/x-python",
      "nbconvert_exporter": "python",
      "name": "python",
      "pygments_lexer": "ipython3",
      "version": "3.6.6",
      "file_extension": ".py",
      "codemirror_mode": {
        "version": 3,
        "name": "ipython"
      }
    }
  },
  "nbformat": 4,
  "nbformat_minor": 2
}