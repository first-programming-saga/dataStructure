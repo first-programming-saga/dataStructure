{
  "cells": [
    {
      "metadata": {},
      "cell_type": "markdown",
      "source": [
        "# 集合"
      ]
    },
    {
      "metadata": {},
      "cell_type": "markdown",
      "source": [
        "集合は、リストと同様に、オブジェクトを保持する。ただし、同じオブジェクトは一つしか保持できない。\n",
        "また、順序が付かづ、インデクスで指定することができない。"
      ]
    },
    {
      "metadata": {},
      "cell_type": "markdown",
      "source": [
        "## 集合の生成\n",
        "\n",
        "リストと同様に、要素を列挙して集合を生成することができる。入れた順序と表示される順序が異なることに注意する。"
      ]
    },
    {
      "metadata": {
        "trusted": true,
        "scrolled": false
      },
      "cell_type": "code",
      "source": [
        "colorSet = {'red','green','blue'}\n",
        "print(colorSet)"
      ],
      "execution_count": null,
      "outputs": []
    },
    {
      "metadata": {},
      "cell_type": "markdown",
      "source": [
        "リストから集合を生成することもできる。"
      ]
    },
    {
      "metadata": {
        "trusted": true,
        "scrolled": true
      },
      "cell_type": "code",
      "source": [
        "names = ['Kim','Bob','Kate','Joe']\n",
        "nameSet=set(names)\n",
        "nameSet"
      ],
      "execution_count": null,
      "outputs": []
    },
    {
      "metadata": {},
      "cell_type": "markdown",
      "source": [
        "空の集合の生成"
      ]
    },
    {
      "metadata": {
        "trusted": true,
        "scrolled": true
      },
      "cell_type": "code",
      "source": [
        "nullSet = {}\n",
        "nullSet"
      ],
      "execution_count": null,
      "outputs": []
    },
    {
      "metadata": {
        "trusted": true
      },
      "cell_type": "code",
      "source": [
        "nullSet = set()"
      ],
      "execution_count": null,
      "outputs": []
    },
    {
      "metadata": {},
      "cell_type": "markdown",
      "source": [
        "## 集合の操作"
      ]
    },
    {
      "metadata": {},
      "cell_type": "markdown",
      "source": [
        "Setは、iterableであり、要素をたどることができる。順序は定まらないことに注意が必要である。"
      ]
    },
    {
      "metadata": {
        "trusted": true
      },
      "cell_type": "code",
      "source": [
        "for c in colorSet:\n",
        "    print(c)"
      ],
      "execution_count": null,
      "outputs": []
    },
    {
      "metadata": {},
      "cell_type": "markdown",
      "source": [
        "要素の追加・削除、取り出しができる。\n",
        "\n",
        "- add(要素) : 要素を追加\n",
        "- remove(要素) : 要素を削除\n",
        "- pop() : 要素を削除\n",
        " - 削除する要素を指定できない\n",
        "- clear() : 全ての要素を削除\n"
      ]
    },
    {
      "metadata": {
        "trusted": true,
        "scrolled": false
      },
      "cell_type": "code",
      "source": [
        "setB=set()#空の集合を生成\n",
        "print(setB)\n",
        "setB.add('orange')\n",
        "setB.add('yellow')\n",
        "setB.add('blue')\n",
        "print(setB)\n",
        "setB.remove('blue')\n",
        "print(setB)\n",
        "c = setB.pop()\n",
        "print(c)\n",
        "print(setB)\n"
      ],
      "execution_count": null,
      "outputs": []
    },
    {
      "cell_type": "code",
      "execution_count": null,
      "metadata": {},
      "outputs": [],
      "source": [
        "colorSet = {'red','green','blue'}\n",
        "colorSet.add('yellow')\n",
        "print(colorSet)\n",
        "colorSet.remove('blue')\n",
        "for c in colorSet:\n",
        "    print(c)\n",
        "c = colorSet.pop()\n",
        "print(c)\n",
        "print(colorSet)"
      ]
    },
    {
      "metadata": {},
      "cell_type": "markdown",
      "source": [
        "## 集合の演算"
      ]
    },
    {
      "metadata": {},
      "cell_type": "markdown",
      "source": [
        "集合の演算:集合の和、共通部分\n",
        "    \n",
        "- 集合の和：union()または|\n",
        "- 集合の共通部分：intersection()または&"
      ]
    },
    {
      "metadata": {
        "trusted": true,
        "scrolled": true
      },
      "cell_type": "code",
      "source": [
        "set1 = {'red','green','blue'}\n",
        "set2 = {'red','yellow','orange'}\n",
        "set3 = set1.union(set2)#和集合\n",
        "print(set3)\n",
        "set3 = set1 | set2\n",
        "print(set3)\n",
        "set4 = set1.intersection(set2)#共通部分\n",
        "print(set4)\n",
        "set4 = set1 & set2\n",
        "print(set4)\n",
        "set5 = set4 | {'red'}#同じオブジェクトは一度しか入らない\n",
        "print(set5)\n",
        "set6 = set1 - set2\n",
        "print(set6)"
      ],
      "execution_count": null,
      "outputs": []
    },
    {
      "metadata": {},
      "cell_type": "markdown",
      "source": [
        "## 集合に関する判定"
      ]
    },
    {
      "metadata": {},
      "cell_type": "markdown",
      "source": [
        "集合の比較：\"==\"は要素の要素の比較、\"is\"はオブジェクトとしての同等性を比較"
      ]
    },
    {
      "metadata": {
        "trusted": true,
        "scrolled": true
      },
      "cell_type": "code",
      "source": [
        "colors = {'red', 'green', 'yellow', 'blue', 'orange'}\n",
        "colors == set3"
      ],
      "execution_count": null,
      "outputs": []
    },
    {
      "metadata": {
        "trusted": true,
        "scrolled": false
      },
      "cell_type": "code",
      "source": [
        "colors is set3"
      ],
      "execution_count": null,
      "outputs": []
    },
    {
      "metadata": {},
      "cell_type": "markdown",
      "source": [
        "setには対象の上位集合かを判定する\"issuperset()\"と部分集合かを判定する\"issubset()\"がある"
      ]
    },
    {
      "metadata": {
        "trusted": true,
        "scrolled": true
      },
      "cell_type": "code",
      "source": [
        "colors.issuperset(set1)"
      ],
      "execution_count": null,
      "outputs": []
    },
    {
      "metadata": {
        "trusted": true,
        "scrolled": true
      },
      "cell_type": "code",
      "source": [
        "set2.issubset(colors)"
      ],
      "execution_count": null,
      "outputs": []
    },
    {
      "metadata": {},
      "cell_type": "markdown",
      "source": [
        "## 変更できない集合"
      ]
    },
    {
      "metadata": {},
      "cell_type": "markdown",
      "source": [
        "変更できない集合はfrozensetとして生成する。変更しようとするとエラーとなる。\n",
        "ここでは、変更しようとした際のエラー（例外）を捕まえて、エラーメッセージを表示している。"
      ]
    },
    {
      "metadata": {
        "trusted": true,
        "scrolled": true
      },
      "cell_type": "code",
      "source": [
        "setC = frozenset(['apple','orange'])#変更できない集合\n",
        "try:\n",
        "    setC.add('banana')#要素を追加しようとすると、エラーとなる\n",
        "except Exception as e:\n",
        "    print(e)"
      ],
      "execution_count": null,
      "outputs": []
    },
    {
      "metadata": {},
      "cell_type": "markdown",
      "source": [
        "# 課題"
      ]
    },
    {
      "metadata": {},
      "cell_type": "markdown",
      "source": [
        "二つの集合の差$X\\backslash Y=\\lbrace e\\mid e\\in X\\land e\\not\\in Y\\rbrace$は、集合$X$の要素のうち、$Y$に含まれないものの集合である。\n",
        "pythonでは、演算子\"-\"で行うことができる。\n",
        "\n",
        "また、二つの集合の排他的和(XOR)は$X\\ \\text{XOR}\\ Y=(X\\cup Y)\\backslash(X\\cap Y)$は、$X$または$Y$のどちらか一方のみに含まれる要素の集合である。\n",
        "pythonでは、演算子\"^\"で行うことができる。\n",
        "\n",
        "set1とset2に対して、集合の差及び排他的和を実際に求めなさい。また、その結果を確認しなさい。"
      ]
    },
    {
      "metadata": {
        "trusted": true
      },
      "cell_type": "code",
      "source": [],
      "execution_count": null,
      "outputs": []
    }
  ],
  "metadata": {
    "kernelspec": {
      "name": "python3",
      "display_name": "Python 3.7.8 64-bit",
      "metadata": {
        "interpreter": {
          "hash": "0dffb5442d84be890217d664a91c46e420962c190ec91d07047007dfcc46efe8"
        }
      }
    },
    "language_info": {
      "mimetype": "text/x-python",
      "nbconvert_exporter": "python",
      "name": "python",
      "pygments_lexer": "ipython3",
      "version": "3.7.8-final",
      "file_extension": ".py",
      "codemirror_mode": {
        "version": 3,
        "name": "ipython"
      }
    }
  },
  "nbformat": 4,
  "nbformat_minor": 2
}