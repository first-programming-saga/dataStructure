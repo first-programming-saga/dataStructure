{
  "cells": [
    {
      "metadata": {
        "collapsed": true
      },
      "cell_type": "markdown",
      "source": "tuple(タプル)は、値の組を保存するデータ構造です。中を変更できないことに注意が必要です。"
    },
    {
      "metadata": {
        "trusted": true,
        "scrolled": true
      },
      "cell_type": "code",
      "source": "data=(1,2)\ndata +=(3,)\nprint(data)\nprint(data[0])",
      "execution_count": 2,
      "outputs": [
        {
          "output_type": "stream",
          "text": "(1, 2, 3)\n1\n",
          "name": "stdout"
        }
      ]
    },
    {
      "metadata": {
        "trusted": true
      },
      "cell_type": "code",
      "source": "colors=('green','red','blue','yellow','orange')\nfor c in colors:\n    print(c)",
      "execution_count": 3,
      "outputs": [
        {
          "output_type": "stream",
          "text": "green\nred\nblue\nyellow\norange\n",
          "name": "stdout"
        }
      ]
    },
    {
      "metadata": {
        "trusted": true
      },
      "cell_type": "code",
      "source": "results = [('Bob',80),('Sue',90),('Tim',70),('Beth',90)]\nfor (name,record) in results:\n    print(f'{name}の成績は{record}点')",
      "execution_count": 7,
      "outputs": [
        {
          "output_type": "stream",
          "text": "Bobの成績は80点\nSueの成績は90点\nTimの成績は70点\nBethの成績は90点\n",
          "name": "stdout"
        }
      ]
    },
    {
      "metadata": {},
      "cell_type": "markdown",
      "source": "集合は、リストと同様に、オブジェクトを保持する。ただし、同じオブジェクトは一つしか保持できない。"
    },
    {
      "metadata": {
        "trusted": true
      },
      "cell_type": "code",
      "source": "colorSet = {'red','breen','blue'}\ncolorSet.add('yellow')\nprint(colorSet)\ncolorSet.remove('blue')\nfor c in colorSet:\n    print(c)\nc = colorSet.pop()\nprint(c)\nprint(colorSet)",
      "execution_count": 9,
      "outputs": [
        {
          "output_type": "stream",
          "text": "{'breen', 'red', 'yellow', 'blue'}\nbreen\nred\nyellow\nbreen\n{'red', 'yellow'}\n",
          "name": "stdout"
        }
      ]
    },
    {
      "metadata": {
        "trusted": true,
        "scrolled": true
      },
      "cell_type": "code",
      "source": "setB=set()#空の集合を生成\nprint(setB)\nsetB.add('orange')\nprint(setB)\nsetC = frozenset(['apple','orange'])#変更できない集合\nsetC.add('banana')#要素を追加しようとすると、エラーとなる",
      "execution_count": 10,
      "outputs": [
        {
          "output_type": "stream",
          "text": "set()\n{'orange'}\n",
          "name": "stdout"
        },
        {
          "output_type": "error",
          "ename": "AttributeError",
          "evalue": "'frozenset' object has no attribute 'add'",
          "traceback": [
            "\u001b[0;31m---------------------------------------------------------------------------\u001b[0m",
            "\u001b[0;31mAttributeError\u001b[0m                            Traceback (most recent call last)",
            "\u001b[0;32m<ipython-input-10-5768d0feef7c>\u001b[0m in \u001b[0;36m<module>\u001b[0;34m\u001b[0m\n\u001b[1;32m      4\u001b[0m \u001b[0mprint\u001b[0m\u001b[0;34m(\u001b[0m\u001b[0msetB\u001b[0m\u001b[0;34m)\u001b[0m\u001b[0;34m\u001b[0m\u001b[0m\n\u001b[1;32m      5\u001b[0m \u001b[0msetC\u001b[0m \u001b[0;34m=\u001b[0m \u001b[0mfrozenset\u001b[0m\u001b[0;34m(\u001b[0m\u001b[0;34m[\u001b[0m\u001b[0;34m'apple'\u001b[0m\u001b[0;34m,\u001b[0m\u001b[0;34m'orange'\u001b[0m\u001b[0;34m]\u001b[0m\u001b[0;34m)\u001b[0m\u001b[0;31m#変更できない集合\u001b[0m\u001b[0;34m\u001b[0m\u001b[0m\n\u001b[0;32m----> 6\u001b[0;31m \u001b[0msetC\u001b[0m\u001b[0;34m.\u001b[0m\u001b[0madd\u001b[0m\u001b[0;34m(\u001b[0m\u001b[0;34m'banana'\u001b[0m\u001b[0;34m)\u001b[0m\u001b[0;34m\u001b[0m\u001b[0m\n\u001b[0m",
            "\u001b[0;31mAttributeError\u001b[0m: 'frozenset' object has no attribute 'add'"
          ]
        }
      ]
    },
    {
      "metadata": {},
      "cell_type": "markdown",
      "source": "集合の演算"
    },
    {
      "metadata": {
        "trusted": true
      },
      "cell_type": "code",
      "source": "set1 = {'red','green','blue'}\nset2 = {'red','yellow','orange'}\nset3 = set1.union(set2)#和集合\nprint(set3)\nset3 = set1 | set2\nprint(set3)\nset4 = set1.intersection(set2)#共通部分\nprint(set4)\nset4 = set1 & set2\nprint(set4)\nset5 = set4 | {'red'}#同じオブジェクトは一度しか入らない\nprint(set5)",
      "execution_count": 11,
      "outputs": [
        {
          "output_type": "stream",
          "text": "{'red', 'yellow', 'green', 'orange', 'blue'}\n{'red', 'yellow', 'green', 'orange', 'blue'}\n{'red'}\n{'red'}\n{'red'}\n",
          "name": "stdout"
        }
      ]
    },
    {
      "metadata": {},
      "cell_type": "markdown",
      "source": "辞書は、キーと値の組を保持する"
    },
    {
      "metadata": {
        "trusted": true
      },
      "cell_type": "code",
      "source": "airports = {'HSG':'佐賀有明空港','FUK':'福岡空港','CTS':'新千歳空港'}\nairports['HND']='羽田空港'#新しい組の追加\nfor key in airports:\n    print(f'{airports[key]}のコードは{key}')",
      "execution_count": 12,
      "outputs": [
        {
          "output_type": "stream",
          "text": "佐賀有明空港のコードはHSG\n福岡空港のコードはFUK\n新千歳空港のコードはCTS\n羽田空港のコードはHND\n",
          "name": "stdout"
        }
      ]
    },
    {
      "metadata": {
        "trusted": true
      },
      "cell_type": "code",
      "source": "",
      "execution_count": null,
      "outputs": []
    }
  ],
  "metadata": {
    "kernelspec": {
      "name": "python36",
      "display_name": "Python 3.6",
      "language": "python"
    },
    "language_info": {
      "mimetype": "text/x-python",
      "nbconvert_exporter": "python",
      "name": "python",
      "pygments_lexer": "ipython3",
      "version": "3.6.6",
      "file_extension": ".py",
      "codemirror_mode": {
        "version": 3,
        "name": "ipython"
      }
    }
  },
  "nbformat": 4,
  "nbformat_minor": 2
}