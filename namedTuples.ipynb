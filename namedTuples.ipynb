{
 "cells": [
  {
   "cell_type": "markdown",
   "metadata": {},
   "source": [
    "# NamedTuple\n",
    "\n",
    "- tupleとその要素に名前を付ける\n",
    "    - tupleそのものと、各要素の意味がわかりやすくなる\n",
    "- tupleの要素は変更できない"
   ]
  },
  {
   "cell_type": "code",
   "execution_count": null,
   "metadata": {},
   "outputs": [],
   "source": [
    "from typing import NamedTuple"
   ]
  },
  {
   "cell_type": "markdown",
   "metadata": {},
   "source": [
    "## 二次元の座標点\n"
   ]
  },
  {
   "cell_type": "code",
   "execution_count": null,
   "metadata": {},
   "outputs": [],
   "source": [
    "class Point(NamedTuple):\n",
    "    x: float\n",
    "    y: float"
   ]
  },
  {
   "cell_type": "code",
   "execution_count": null,
   "metadata": {},
   "outputs": [],
   "source": [
    "origin = Point(0, 0)\n",
    "xUnit = Point(1, 0)\n",
    "yUnit = Point(0, 1)\n",
    "p = Point(10, 5)\n",
    "print(p)\n",
    "print(p.x, p.y)"
   ]
  },
  {
   "cell_type": "markdown",
   "metadata": {},
   "source": [
    "## 色を定義"
   ]
  },
  {
   "cell_type": "code",
   "execution_count": null,
   "metadata": {},
   "outputs": [],
   "source": [
    "class Color(NamedTuple):\n",
    "    label: str\n",
    "    r:int\n",
    "    g:int\n",
    "    b:int"
   ]
  },
  {
   "cell_type": "code",
   "execution_count": null,
   "metadata": {},
   "outputs": [],
   "source": [
    "colors2:list[Color] = [\n",
    "    Color('red', 255, 0, 0),\n",
    "    Color('green', 0, 255, 0),\n",
    "    Color('blue', 0, 0, 255),\n",
    "    Color('yellow', 255, 255, 0),\n",
    "    Color('orange', 255, 165, 0)\n",
    "]\n",
    "for c in colors2:\n",
    "    print(c)"
   ]
  }
 ],
 "metadata": {
  "kernelspec": {
   "display_name": "myenv",
   "language": "python",
   "name": "python3"
  },
  "language_info": {
   "codemirror_mode": {
    "name": "ipython",
    "version": 3
   },
   "file_extension": ".py",
   "mimetype": "text/x-python",
   "name": "python",
   "nbconvert_exporter": "python",
   "pygments_lexer": "ipython3",
   "version": "3.12.1"
  }
 },
 "nbformat": 4,
 "nbformat_minor": 2
}
