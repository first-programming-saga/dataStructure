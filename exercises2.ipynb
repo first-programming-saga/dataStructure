{
 "cells": [
  {
   "cell_type": "markdown",
   "metadata": {},
   "source": [
    "# データ構造: 演習問題: 集合、タプル、辞書型"
   ]
  },
  {
   "cell_type": "markdown",
   "metadata": {},
   "source": [
    "## タプル"
   ]
  },
  {
   "cell_type": "markdown",
   "metadata": {},
   "source": [
    "以下の表は、九州各県の県庁所在地の緯度経度である。市名、緯度、経度を一つのタプルで表し、それらのリストを作成しなさい。\n",
    "また、動作を確認しなさい。\n",
    "\n",
    "|市|緯度|経度|\n",
    "|---|---|---|\n",
    "|福岡市|130:25:05|33:36:23|\n",
    "|佐賀市|130:17:55|33:14:57|\n",
    "|大分市|131:36:45|33:14:17|\n",
    "|熊本市|130:44:30|32:47:22|\n",
    "|長崎市|129:52:02|32:45:00|\n",
    "|宮崎市|131:25:26|31:54:39|\n",
    "|鹿児島市|130:33:29|31:33:37|\n",
    "|那覇市|127:40:51|26:12:44|"
   ]
  },
  {
   "cell_type": "code",
   "execution_count": null,
   "metadata": {},
   "outputs": [],
   "source": [
    "prefectural_Capitals = [\n",
    "\n",
    "]"
   ]
  },
  {
   "cell_type": "markdown",
   "metadata": {},
   "source": [
    "## 集合"
   ]
  },
  {
   "cell_type": "markdown",
   "metadata": {},
   "source": [
    "アルファベットの小文字の文字コードは97以上122以下である。つまり、97以上122以下の整数をデタラメに生成すると、関数chr()を使って文字へ変換することで、デタラメにアルファベット小文字を得ることができる。\n",
    "\n",
    "集合alphabetを用意し、デタラメに生成したアルファベット小文字をalphabetに登録する。1000回登録しても、26種類しか登録されないことを確かめなさい。"
   ]
  },
  {
   "cell_type": "code",
   "execution_count": null,
   "metadata": {},
   "outputs": [],
   "source": [
    "import random\n",
    "alphabet  = set()\n",
    "\n"
   ]
  },
  {
   "cell_type": "markdown",
   "metadata": {},
   "source": [
    "アルファベット大文字の文字コードは65以上90以下である。上と同様のことを確かめなさい。"
   ]
  },
  {
   "cell_type": "code",
   "execution_count": null,
   "metadata": {},
   "outputs": [],
   "source": []
  },
  {
   "cell_type": "markdown",
   "metadata": {},
   "source": [
    "## 辞書\n",
    "\n",
    "アルファベット小文字をでたらめに1000個生成し、各文字の出現回数を辞書型を使って数えなさい。"
   ]
  },
  {
   "cell_type": "code",
   "execution_count": null,
   "metadata": {},
   "outputs": [],
   "source": [
    "occurrence = dict()\n",
    "\n",
    "\n",
    "\n"
   ]
  }
 ],
 "metadata": {
  "kernelspec": {
   "display_name": "Python 3.9.7 ('myenv')",
   "language": "python",
   "name": "python3"
  },
  "language_info": {
   "codemirror_mode": {
    "name": "ipython",
    "version": 3
   },
   "file_extension": ".py",
   "mimetype": "text/x-python",
   "name": "python",
   "nbconvert_exporter": "python",
   "pygments_lexer": "ipython3",
   "version": "3.12.1"
  },
  "orig_nbformat": 4,
  "vscode": {
   "interpreter": {
    "hash": "5b50574aca822a4663eeb358827631e5cbe081f130521b0066dec6b864ef6f2f"
   }
  }
 },
 "nbformat": 4,
 "nbformat_minor": 2
}
