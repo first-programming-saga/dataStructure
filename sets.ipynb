{
  "cells": [
    {
      "attachments": {},
      "cell_type": "markdown",
      "metadata": {},
      "source": [
        "# 集合\n",
        "- 集合は、リストと同様に、オブジェクトを保持する\n",
        "- ただし、同じオブジェクトは一つしか保持できない。\n",
        "- また、順序が付かづ、インデクスで指定することができない。\n",
        "- `{}`を使う"
      ]
    },
    {
      "cell_type": "markdown",
      "metadata": {},
      "source": [
        "## 集合の生成\n",
        "\n",
        "リストと同様に、要素を列挙して集合を生成することができる。入れた順序と表示される順序が異なることに注意する。"
      ]
    },
    {
      "cell_type": "code",
      "execution_count": null,
      "metadata": {
        "scrolled": false,
        "trusted": true
      },
      "outputs": [],
      "source": [
        "colorSet = {'red', 'green', 'blue'}\n",
        "print(colorSet)"
      ]
    },
    {
      "cell_type": "markdown",
      "metadata": {},
      "source": [
        "リストから集合を生成することもできる。"
      ]
    },
    {
      "cell_type": "code",
      "execution_count": null,
      "metadata": {
        "scrolled": true,
        "trusted": true
      },
      "outputs": [],
      "source": [
        "names = ['Kim', 'Bob', 'Kate', 'Joe']\n",
        "nameSet = set(names)\n",
        "nameSet"
      ]
    },
    {
      "cell_type": "markdown",
      "metadata": {},
      "source": [
        "空の集合の生成"
      ]
    },
    {
      "cell_type": "code",
      "execution_count": null,
      "metadata": {
        "scrolled": true,
        "trusted": true
      },
      "outputs": [],
      "source": [
        "nullSet = {}\n",
        "nullSet"
      ]
    },
    {
      "cell_type": "code",
      "execution_count": null,
      "metadata": {
        "trusted": true
      },
      "outputs": [],
      "source": [
        "nullSet = set()"
      ]
    },
    {
      "cell_type": "markdown",
      "metadata": {},
      "source": [
        "## 集合の操作"
      ]
    },
    {
      "attachments": {},
      "cell_type": "markdown",
      "metadata": {},
      "source": [
        "- Setは、 _iterable_ であり、要素をたどることができる\n",
        "- 順序は定まらないことに注意"
      ]
    },
    {
      "cell_type": "code",
      "execution_count": null,
      "metadata": {
        "trusted": true
      },
      "outputs": [],
      "source": [
        "for c in colorSet:\n",
        "    print(c)"
      ]
    },
    {
      "attachments": {},
      "cell_type": "markdown",
      "metadata": {},
      "source": [
        "要素の追加・削除、取り出しができる。\n",
        "\n",
        "- `add(要素)` : 要素を追加\n",
        "- `remove(要素)` : 要素を削除\n",
        "- `pop()` : 要素を削除\n",
        "    - 削除する要素を指定できない\n",
        "- `clear()` : 全ての要素を削除\n"
      ]
    },
    {
      "cell_type": "code",
      "execution_count": null,
      "metadata": {
        "scrolled": false,
        "trusted": true
      },
      "outputs": [],
      "source": [
        "setB=set()#空の集合を生成\n",
        "print(setB)\n",
        "setB.add('orange')\n",
        "setB.add('yellow')\n",
        "setB.add('blue')\n",
        "print(setB)\n",
        "setB.remove('blue')\n",
        "print(setB)\n",
        "c = setB.pop()\n",
        "print(c)\n",
        "print(setB)"
      ]
    },
    {
      "cell_type": "code",
      "execution_count": null,
      "metadata": {},
      "outputs": [],
      "source": [
        "colorSet = {'red', 'green', 'blue'}\n",
        "colorSet.add('yellow')\n",
        "print(colorSet)\n",
        "colorSet.remove('blue')\n",
        "for c in colorSet:\n",
        "    print(c)\n",
        "c = colorSet.pop()\n",
        "print(c)\n",
        "print(colorSet)"
      ]
    },
    {
      "cell_type": "markdown",
      "metadata": {},
      "source": [
        "## 集合の演算"
      ]
    },
    {
      "attachments": {},
      "cell_type": "markdown",
      "metadata": {},
      "source": [
        "集合の演算:集合の和、共通部分\n",
        "    \n",
        "- 集合の和：`union()`または`|`\n",
        "- 集合の共通部分：`intersection()`または`&`\n",
        "- 集合の差：`-`"
      ]
    },
    {
      "cell_type": "code",
      "execution_count": null,
      "metadata": {
        "scrolled": true,
        "trusted": true
      },
      "outputs": [],
      "source": [
        "set1 = {'red', 'green', 'blue'}\n",
        "set2 = {'red', 'yellow', 'orange'}\n",
        "set3 = set1.union(set2)#和集合\n",
        "print(set3)\n",
        "set3 = set1 | set2\n",
        "print(set3)\n",
        "set4 = set1.intersection(set2)#共通部分\n",
        "print(set4)\n",
        "set4 = set1 & set2\n",
        "print(set4)\n",
        "set5 = set4 | {'red'}#同じオブジェクトは一度しか入らない\n",
        "print(set5)\n",
        "set6 = set1 - set2\n",
        "print(set6)"
      ]
    },
    {
      "cell_type": "code",
      "execution_count": null,
      "metadata": {},
      "outputs": [],
      "source": [
        "whole = set([x for x in range(1,11)])\n",
        "even = set([x for x in whole if x % 2 == 0])\n",
        "three = set([x for x in whole if x % 3 == 0])\n",
        "setA = even & three\n",
        "setB = even | three\n",
        "setC = whole - setA\n",
        "setD = (whole - even) | (whole - three)\n",
        "setC == setC"
      ]
    },
    {
      "cell_type": "markdown",
      "metadata": {},
      "source": [
        "## 集合に関する判定"
      ]
    },
    {
      "attachments": {},
      "cell_type": "markdown",
      "metadata": {},
      "source": [
        "集合の比較\n",
        "- `==`は要素の要素の比較\n",
        "- `is`はオブジェクトとしての同等性を比較"
      ]
    },
    {
      "cell_type": "code",
      "execution_count": null,
      "metadata": {
        "scrolled": true,
        "trusted": true
      },
      "outputs": [],
      "source": [
        "colors = {'red', 'green', 'yellow', 'blue', 'orange'}\n",
        "colors == set3"
      ]
    },
    {
      "cell_type": "code",
      "execution_count": null,
      "metadata": {
        "scrolled": false,
        "trusted": true
      },
      "outputs": [],
      "source": [
        "colors is set3"
      ]
    },
    {
      "cell_type": "markdown",
      "metadata": {},
      "source": [
        "setには対象の上位集合かを判定する`issuperset()`と部分集合かを判定する`issubset()`がある"
      ]
    },
    {
      "cell_type": "code",
      "execution_count": null,
      "metadata": {
        "scrolled": true,
        "trusted": true
      },
      "outputs": [],
      "source": [
        "colors.issuperset(set1)"
      ]
    },
    {
      "cell_type": "code",
      "execution_count": null,
      "metadata": {
        "scrolled": true,
        "trusted": true
      },
      "outputs": [],
      "source": [
        "set2.issubset(colors)"
      ]
    },
    {
      "cell_type": "markdown",
      "metadata": {},
      "source": [
        "## 変更できない集合"
      ]
    },
    {
      "attachments": {},
      "cell_type": "markdown",
      "metadata": {},
      "source": [
        "変更できない集合は`frozenset()`を使って生成する。変更しようとするとエラーとなる。\n",
        "ここでは、変更しようとした際のエラー（例外）を捕まえて、エラーメッセージを表示している。"
      ]
    },
    {
      "cell_type": "code",
      "execution_count": null,
      "metadata": {
        "scrolled": true,
        "trusted": true
      },
      "outputs": [],
      "source": [
        "setC = frozenset(['apple','orange'])#変更できない集合\n",
        "try:\n",
        "    setC.add('banana')#要素を追加しようとすると、エラーとなる\n",
        "except Exception as e:\n",
        "    print(e)"
      ]
    },
    {
      "cell_type": "markdown",
      "metadata": {},
      "source": [
        "## 課題\n",
        "集合に対するde Morganの法則を確かめましょう。二つの集合$A$と$B$は、共に集合$W$の部分集合とします。\n",
        "$$A\\subseteq W,\\ B\\subseteq W$$\n",
        "この時、de Morgan の法則ば以下のようになります。$\\bar{A}$は補集合です。\n",
        "$$\\overline{A\\cup B} = \\bar{A}\\cap\\bar{B}$$\n",
        "$$\\overline{A\\cap B} = \\bar{A}\\cup\\bar{B}$$\n",
        "$W=\\lbrace k\\mid k\\in N, k\\le10\\rbrace$、$A=\\lbrace k\\mid k\\%2=0,k\\in W\\rbrace$\n",
        "および$B=\\lbrace k\\mid k\\%3=0,k\\in W\\rbrace$として確かめなさい。\n",
        "全体集合が定義されているので、補集合は、差集合で定義できることに注意しなさい。"
      ]
    },
    {
      "cell_type": "code",
      "execution_count": null,
      "metadata": {},
      "outputs": [],
      "source": [
        "whole = set([x for x in range(1,11)])\n",
        "even = set([x for x in whole if x % 2 == 0])\n",
        "three = set([x for x in whole if x % 3 == 0])\n"
      ]
    }
  ],
  "metadata": {
    "kernelspec": {
      "display_name": "myenv",
      "language": "python",
      "name": "python3"
    },
    "language_info": {
      "codemirror_mode": {
        "name": "ipython",
        "version": 3
      },
      "file_extension": ".py",
      "mimetype": "text/x-python",
      "name": "python",
      "nbconvert_exporter": "python",
      "pygments_lexer": "ipython3",
      "version": "3.10.8 | packaged by conda-forge | (main, Nov 22 2022, 08:16:33) [MSC v.1929 64 bit (AMD64)]"
    },
    "vscode": {
      "interpreter": {
        "hash": "b3b804b6b7a7d9b475cf928428dd1242016eacc24c47853aaf0f8d1d2228aa39"
      }
    }
  },
  "nbformat": 4,
  "nbformat_minor": 2
}
