{
  "cells": [
    {
      "metadata": {
        "collapsed": true
      },
      "cell_type": "markdown",
      "source": "乱数を保存するリスト$\\lbrace d_i\\rbrace$を生成し、データの個数、平均、標準偏差、更に分布を調べる。"
    },
    {
      "metadata": {
        "trusted": true
      },
      "cell_type": "code",
      "source": "import random\nimport math",
      "execution_count": 7,
      "outputs": []
    },
    {
      "metadata": {
        "trusted": true
      },
      "cell_type": "code",
      "source": "data=[]\nn = 1000 #データ数\nfor i in range(n):\n    x = random.random()\n    data.append(x)",
      "execution_count": 8,
      "outputs": []
    },
    {
      "metadata": {
        "trusted": true
      },
      "cell_type": "code",
      "source": "nn=len(data)\nprint(f'データの個数：{nn}')",
      "execution_count": 9,
      "outputs": [
        {
          "output_type": "stream",
          "text": "データの個数：1000\n",
          "name": "stdout"
        }
      ]
    },
    {
      "metadata": {},
      "cell_type": "markdown",
      "source": "平均と標準偏差\n$$\\langle d\\rangle = \\frac{1}{n}\\sum_{k=0}^{n-1}d_k$$\n$$\\langle d^2\\rangle = \\frac{1}{n}\\sum_{k=0}^{n-1}d_k^2$$\n$$\\sigma^2=\\langle d^2\\rangle-\\langle d\\rangle^2$$"
    },
    {
      "metadata": {
        "trusted": true
      },
      "cell_type": "code",
      "source": "sum1=0\nsum2=0\nfor x in data:\n    sum1 += x\n    sum2 += x*x\naverage = sum1/nn\naverage2 = sum2/nn\nsigma2 = average2 - average*average\nsigma = math.sqrt(sigma2)\nprint(f'平均：{average}')\nprint(f'標準偏差：{sigma}')",
      "execution_count": 10,
      "outputs": [
        {
          "output_type": "stream",
          "text": "平均：0.49556296989586307\n標準偏差：0.28524455062665516\n",
          "name": "stdout"
        }
      ]
    },
    {
      "metadata": {},
      "cell_type": "markdown",
      "source": "区間$[0,1)$を10等分し、各区間に入っているデータの数を調べる"
    },
    {
      "metadata": {
        "trusted": true
      },
      "cell_type": "code",
      "source": "histogram=[0]*10\n#各区間内の出現数を数える\nfor x in data:\n    k = int(10.*x)\n    histogram[k] += 1\n#結果を出力\nfor k in range(10):\n    f = k*0.1\n    t = (k+1)*0.1\n    r ='{:.1f}'.format(f)+','+'{:.1f}'.format(t)\n    message =f'区間[{r})内の数:{histogram[k]}'\n    print(message)\n",
      "execution_count": 18,
      "outputs": [
        {
          "output_type": "stream",
          "text": "区間[0.0,0.1)内の数:95\n区間[0.1,0.2)内の数:107\n区間[0.2,0.3)内の数:108\n区間[0.3,0.4)内の数:83\n区間[0.4,0.5)内の数:109\n区間[0.5,0.6)内の数:107\n区間[0.6,0.7)内の数:107\n区間[0.7,0.8)内の数:90\n区間[0.8,0.9)内の数:111\n区間[0.9,1.0)内の数:83\n",
          "name": "stdout"
        }
      ]
    },
    {
      "metadata": {
        "trusted": true
      },
      "cell_type": "code",
      "source": "",
      "execution_count": null,
      "outputs": []
    }
  ],
  "metadata": {
    "kernelspec": {
      "name": "python36",
      "display_name": "Python 3.6",
      "language": "python"
    },
    "language_info": {
      "mimetype": "text/x-python",
      "nbconvert_exporter": "python",
      "name": "python",
      "pygments_lexer": "ipython3",
      "version": "3.6.6",
      "file_extension": ".py",
      "codemirror_mode": {
        "version": 3,
        "name": "ipython"
      }
    }
  },
  "nbformat": 4,
  "nbformat_minor": 2
}