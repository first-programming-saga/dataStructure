{
  "cells": [
    {
      "metadata": {
        "collapsed": true
      },
      "cell_type": "markdown",
      "source": "# リストの例題\n\n乱数を保存するリスト$\\lbrace d_i\\rbrace$を生成し、データの個数、平均、標準偏差、更に分布を調べる。"
    },
    {
      "metadata": {
        "trusted": true
      },
      "cell_type": "code",
      "source": "import random\nimport math",
      "execution_count": 19,
      "outputs": []
    },
    {
      "metadata": {
        "trusted": true
      },
      "cell_type": "code",
      "source": "data=[]\nn = 1000 #データ数\nfor i in range(n):\n    x = random.random()\n    data.append(x)",
      "execution_count": 20,
      "outputs": []
    },
    {
      "metadata": {
        "trusted": true
      },
      "cell_type": "code",
      "source": "nn=len(data)\nprint(f'データの個数：{nn}')",
      "execution_count": 21,
      "outputs": [
        {
          "output_type": "stream",
          "text": "データの個数：1000\n",
          "name": "stdout"
        }
      ]
    },
    {
      "metadata": {},
      "cell_type": "markdown",
      "source": "平均と標準偏差\n$$\\langle d\\rangle = \\frac{1}{n}\\sum_{k=0}^{n-1}d_k$$\n$$\\langle d^2\\rangle = \\frac{1}{n}\\sum_{k=0}^{n-1}d_k^2$$\n$$\\sigma^2=\\langle d^2\\rangle-\\langle d\\rangle^2$$"
    },
    {
      "metadata": {
        "trusted": true
      },
      "cell_type": "code",
      "source": "sum1=0\nsum2=0\nfor x in data:\n    sum1 += x\n    sum2 += x*x\naverage = sum1/nn\naverage2 = sum2/nn\nsigma2 = average2 - average*average\nsigma = math.sqrt(sigma2)\nprint(f'平均：{average}')\nprint(f'標準偏差：{sigma}')",
      "execution_count": 22,
      "outputs": [
        {
          "output_type": "stream",
          "text": "平均：0.49210217911230475\n標準偏差：0.2852371672062248\n",
          "name": "stdout"
        }
      ]
    },
    {
      "metadata": {},
      "cell_type": "markdown",
      "source": "区間$[0,1)$を10等分し、各区間に入っているデータの数を調べる"
    },
    {
      "metadata": {
        "trusted": true
      },
      "cell_type": "code",
      "source": "#ヒストグラム用の配列、大きさは10、すべての初期値は0\nhistogram=[0]*10\n#各区間内の出現数を数える\nfor x in data:\n    k = int(10.*x)#10倍して整数に変換すると、元の数の小数第一位が分かる\n    histogram[k] += 1\n    \n#結果を出力\nfor k in range(10):\n    f = k*0.1\n    t = (k+1)*0.1\n    r ='{:.1f}'.format(f)+','+'{:.1f}'.format(t)\n    message =f'区間[{r})内の数:{histogram[k]}'\n    print(message)",
      "execution_count": 23,
      "outputs": [
        {
          "output_type": "stream",
          "text": "区間[0.0,0.1)内の数:97\n区間[0.1,0.2)内の数:102\n区間[0.2,0.3)内の数:100\n区間[0.3,0.4)内の数:115\n区間[0.4,0.5)内の数:109\n区間[0.5,0.6)内の数:96\n区間[0.6,0.7)内の数:94\n区間[0.7,0.8)内の数:98\n区間[0.8,0.9)内の数:92\n区間[0.9,1.0)内の数:97\n",
          "name": "stdout"
        }
      ]
    },
    {
      "metadata": {
        "trusted": true
      },
      "cell_type": "code",
      "source": "import matplotlib.pyplot as plt\nx = [0]*10\nfor k in range(10):\n    x[k]=0.1*k+0.05\nplt.ylim([0,150])\nplt.bar(x,histogram,0.1,color='yellow',edgecolor='black')",
      "execution_count": 32,
      "outputs": [
        {
          "output_type": "execute_result",
          "execution_count": 32,
          "data": {
            "text/plain": "<BarContainer object of 10 artists>"
          },
          "metadata": {}
        },
        {
          "output_type": "display_data",
          "data": {
            "image/png": "[encoded data removed]",
            "text/plain": "<Figure size 432x288 with 1 Axes>"
          },
          "metadata": {
            "needs_background": "light"
          }
        }
      ]
    },
    {
      "metadata": {
        "trusted": true
      },
      "cell_type": "code",
      "source": "",
      "execution_count": null,
      "outputs": []
    }
  ],
  "metadata": {
    "kernelspec": {
      "name": "python36",
      "display_name": "Python 3.6",
      "language": "python"
    },
    "language_info": {
      "mimetype": "text/x-python",
      "nbconvert_exporter": "python",
      "name": "python",
      "pygments_lexer": "ipython3",
      "version": "3.6.6",
      "file_extension": ".py",
      "codemirror_mode": {
        "version": 3,
        "name": "ipython"
      }
    }
  },
  "nbformat": 4,
  "nbformat_minor": 2
}