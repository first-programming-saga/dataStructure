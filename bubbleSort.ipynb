{
 "cells": [
  {
   "attachments": {},
   "cell_type": "markdown",
   "metadata": {},
   "source": [
    "## 泡立ち法"
   ]
  },
  {
   "cell_type": "code",
   "execution_count": null,
   "metadata": {},
   "outputs": [],
   "source": [
    "def bubble(input:list,debug = False) -> list:\n",
    "    output = list(input)\n",
    "    n = len(output)\n",
    "    for i in range(n - 1, 1, - 1):\n",
    "        for j in range(i):\n",
    "            if output[j] > output[j + 1]:\n",
    "                tmp = output[j]\n",
    "                output[j] = output[j + 1]\n",
    "                output[j + 1] = tmp\n",
    "            if debug:\n",
    "                print(f'->{output}')\n",
    "        if debug:\n",
    "            print(output)\n",
    "    return output"
   ]
  },
  {
   "cell_type": "code",
   "execution_count": null,
   "metadata": {},
   "outputs": [],
   "source": [
    "data = [ 3,1,9,4,6,10,3]\n",
    "bubble(data, True)"
   ]
  }
 ],
 "metadata": {
  "interpreter": {
   "hash": "5b50574aca822a4663eeb358827631e5cbe081f130521b0066dec6b864ef6f2f"
  },
  "kernelspec": {
   "display_name": "Python 3.9.7 64-bit ('myenv': conda)",
   "language": "python",
   "name": "python3"
  },
  "language_info": {
   "codemirror_mode": {
    "name": "ipython",
    "version": 3
   },
   "file_extension": ".py",
   "mimetype": "text/x-python",
   "name": "python",
   "nbconvert_exporter": "python",
   "pygments_lexer": "ipython3",
   "version": "3.10.8"
  },
  "orig_nbformat": 4
 },
 "nbformat": 4,
 "nbformat_minor": 2
}
